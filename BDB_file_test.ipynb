{
 "cells": [
  {
   "cell_type": "code",
   "execution_count": 1,
   "metadata": {},
   "outputs": [],
   "source": [
    "import seaborn as sb\n",
    "import numpy as np\n",
    "from matplotlib import pyplot as pl\n",
    "sb.set()\n",
    "sb.set_style('white')\n",
    "cpal = sb.color_palette()"
   ]
  },
  {
   "cell_type": "code",
   "execution_count": 2,
   "metadata": {},
   "outputs": [
    {
     "name": "stdout",
     "output_type": "stream",
     "text": [
      "session_id: jovyan@nightcrawler2-notebook_2019-03-27T20:56:57.773303_A\n"
     ]
    }
   ],
   "source": [
    "%load_ext jupyter_probcomp.magics"
   ]
  },
  {
   "cell_type": "code",
   "execution_count": 3,
   "metadata": {},
   "outputs": [
    {
     "data": {
      "application/javascript": [
       "//   Copyright (c) 2010-2016, MIT Probabilistic Computing Project\n",
       "//\n",
       "//   Licensed under the Apache License, Version 2.0 (the \"License\");\n",
       "//   you may not use this file except in compliance with the License.\n",
       "//   You may obtain a copy of the License at\n",
       "//\n",
       "//       http://www.apache.org/licenses/LICENSE-2.0\n",
       "//\n",
       "//   Unless required by applicable law or agreed to in writing, software\n",
       "//   distributed under the License is distributed on an \"AS IS\" BASIS,\n",
       "//   WITHOUT WARRANTIES OR CONDITIONS OF ANY KIND, either express or implied.\n",
       "//   See the License for the specific language governing permissions and\n",
       "//   limitations under the License.\n",
       "\n",
       "var myCell = element\n",
       "window.VizGPMReady = new Promise(resolve => {\n",
       "  $.getScript('https://probcomp-2.csail.mit.edu/vizgpm/vizgpm.js', function() {\n",
       "    myCell.append('Loaded VizGPM v' + VizGPM.version);\n",
       "    $.getScript('https://cdnjs.cloudflare.com/ajax/libs/lodash.js/4.17.4/lodash.js', function() {\n",
       "      myCell.append('Loaded lodash v' + _.VERSION);\n",
       "      VizGPM._ = _.noConflict();\n",
       "      resolve(VizGPM)\n",
       "    });\n",
       "  })\n",
       "})\n"
      ],
      "text/plain": [
       "<IPython.core.display.Javascript object>"
      ]
     },
     "execution_count": 3,
     "metadata": {},
     "output_type": "execute_result"
    }
   ],
   "source": [
    "%matplotlib inline\n",
    "%vizgpm inline"
   ]
  },
  {
   "cell_type": "code",
   "execution_count": 4,
   "metadata": {},
   "outputs": [
    {
     "data": {
      "text/plain": [
       "u'Loaded: wik_bdb/bdb_hunts_marr.bdb'"
      ]
     },
     "execution_count": 4,
     "metadata": {},
     "output_type": "execute_result"
    }
   ],
   "source": [
    "%bayesdb -j wik_bdb/bdb_hunts_marr.bdb"
   ]
  },
  {
   "cell_type": "code",
   "execution_count": 14,
   "metadata": {},
   "outputs": [
    {
     "data": {
      "text/html": [
       "<div>\n",
       "<table border=\"1\" class=\"dataframe\">\n",
       "  <thead>\n",
       "    <tr style=\"text-align: right;\">\n",
       "      <th></th>\n",
       "    </tr>\n",
       "  </thead>\n",
       "  <tbody>\n",
       "  </tbody>\n",
       "</table>\n",
       "</div>"
      ],
      "text/plain": [
       "Empty DataFrame\n",
       "Columns: []\n",
       "Index: []"
      ]
     },
     "execution_count": 14,
     "metadata": {},
     "output_type": "execute_result"
    }
   ],
   "source": [
    "%%bql\n",
    "DROP TABLE IF EXISTS \"dependence_probabilities\";\n",
    "CREATE TABLE \"dependence_probabilities\" AS\n",
    "    ESTIMATE DEPENDENCE PROBABILITY\n",
    "    FROM PAIRWISE VARIABLES OF bout_population;"
   ]
  },
  {
   "cell_type": "code",
   "execution_count": 15,
   "metadata": {},
   "outputs": [
    {
     "data": {
      "application/javascript": [
       "//   Copyright (c) 2010-2016, MIT Probabilistic Computing Project\n",
       "//\n",
       "//   Licensed under the Apache License, Version 2.0 (the \"License\");\n",
       "//   you may not use this file except in compliance with the License.\n",
       "//   You may obtain a copy of the License at\n",
       "//\n",
       "//       http://www.apache.org/licenses/LICENSE-2.0\n",
       "//\n",
       "//   Unless required by applicable law or agreed to in writing, software\n",
       "//   distributed under the License is distributed on an \"AS IS\" BASIS,\n",
       "//   WITHOUT WARRANTIES OR CONDITIONS OF ANY KIND, either express or implied.\n",
       "//   See the License for the specific language governing permissions and\n",
       "//   limitations under the License.\n",
       "\n",
       "\n",
       "function heatmap(df, labels) {\n",
       "  var myCell = element.is('.output_subarea') ? element : element.next();\n",
       "  if (typeof VizGPMReady === 'undefined') {\n",
       "    throw new Error('VizGPM Display Library not loaded')\n",
       "  }\n",
       "\n",
       "  if (df.columns.length !== 3) {\n",
       "    throw new Error('Must be 3 columns of data');\n",
       "  }\n",
       "\n",
       "  const toggleClass = (element, className, state) => {\n",
       "    element.classList[state ? 'add' : 'remove'](className)\n",
       "  }\n",
       "\n",
       "  // convert the data to an MI object for VizGPM\n",
       "  var associations = {}\n",
       "  const columns = new Set();\n",
       "  for (const [col0, col1, value] of df.data) {\n",
       "    columns.add(col0);\n",
       "    columns.add(col1);\n",
       "    if (!associations[col0]) {\n",
       "      associations[col0] = {}\n",
       "    }\n",
       "    associations[col0][col1] = value\n",
       "  }\n",
       "\n",
       "  function between(col1, col2) {\n",
       "    return associations[col1][col2]\n",
       "  }\n",
       "\n",
       "  // This is what VizGPM expects for the mutual info charts\n",
       "  var mi = { target: labels || [...columns], between: between }\n",
       "\n",
       "  var container = $('<div style=\"display: flex; flex-direction: row;\">')\n",
       "    .appendTo(myCell);\n",
       "\n",
       "  var depProbContainer = $('<div style=\"flex: 1 1 100%;\">').appendTo(container);\n",
       "  var columnListContainer = $('<div style=\"flex: 0 0 200px;\">').appendTo(container);\n",
       "\n",
       "  $(\"<style>.vizgpm-column-list .selected-columns-list .details{display: none !important;}</style>\").appendTo(container);\n",
       "\n",
       "  VizGPMReady.then(function(VizGPM) {\n",
       "    const _ = VizGPM._;\n",
       "\n",
       "    const SP = VizGPM.StateProperty\n",
       "\n",
       "    const schema = [...columns].map(name => ({name}));\n",
       "\n",
       "    var stateManager = new VizGPM.StateManager({\n",
       "      [SP.SCHEMA]: {columns: schema},\n",
       "      columns: [...columns],\n",
       "      [SP.SELECTED_COLUMN_NAMES]: [],\n",
       "      [SP.GET_COLUMN_FUNCTION]: col =>\n",
       "        VizGPM.GpmHandler.prototype._getColumn.call(stateManager, col),\n",
       "    });\n",
       "\n",
       "    // var debug = $('<pre>').appendTo(element);\n",
       "    // stateManager.subscribe(function(newState) {\n",
       "    //   const showState = Object.assign({}, newState.state);\n",
       "    //   delete showState.schema;\n",
       "    //   delete showState.rows;\n",
       "    //   debug.text(JSON.stringify(showState, false, '  '))\n",
       "    // })\n",
       "\n",
       "    const chart = new VizGPM.ZoomableColumnAssociation({\n",
       "      root: depProbContainer[0],\n",
       "      stateManager: stateManager,\n",
       "      // subgridClass: SingleSelectSubgrid,\n",
       "      associationFn: function() {\n",
       "        return mi\n",
       "      },\n",
       "      // subgridConfig: {\n",
       "        // cellSelectedFn: ({ xColumn, yColumn, selectedColumns: [x, y = x] = [] }) =>\n",
       "          // xColumn === x && yColumn === y,\n",
       "      // },\n",
       "      // miniMapConfig: {\n",
       "        // cellSelectedFn: ({ xColumn, yColumn, selectedColumns: [x, y = x] = [] }) =>\n",
       "          // xColumn === x || yColumn === y,\n",
       "      // },\n",
       "    })\n",
       "\n",
       "    const columnList = new VizGPM.UI.ColumnList({\n",
       "      root: columnListContainer[0],\n",
       "      stateManager,\n",
       "    })\n",
       "  })\n",
       "}\n",
       "heatmap({\"columns\":[\"name0\",\"name1\",\"value\"],\"index\":[0,1,2,3,4,5,6,7,8,9,10,11,12,13,14,15,16,17,18,19,20,21,22,23,24,25,26,27,28,29,30,31,32,33,34,35,36,37,38,39,40,41,42,43,44,45,46,47,48],\"data\":[[\"bout number\",\"bout number\",1.0],[\"bout number\",\"para az\",0.22],[\"bout number\",\"para alt\",0.06],[\"bout number\",\"para dist\",0.1],[\"bout number\",\"postbout para az\",0.14],[\"bout number\",\"postbout para alt\",0.06],[\"bout number\",\"postbout para dist\",0.1],[\"para az\",\"bout number\",0.22],[\"para az\",\"para az\",1.0],[\"para az\",\"para alt\",0.6],[\"para az\",\"para dist\",0.44],[\"para az\",\"postbout para az\",0.76],[\"para az\",\"postbout para alt\",0.6],[\"para az\",\"postbout para dist\",0.44],[\"para alt\",\"bout number\",0.06],[\"para alt\",\"para az\",0.6],[\"para alt\",\"para alt\",1.0],[\"para alt\",\"para dist\",0.46],[\"para alt\",\"postbout para az\",0.64],[\"para alt\",\"postbout para alt\",1.0],[\"para alt\",\"postbout para dist\",0.46],[\"para dist\",\"bout number\",0.1],[\"para dist\",\"para az\",0.44],[\"para dist\",\"para alt\",0.46],[\"para dist\",\"para dist\",1.0],[\"para dist\",\"postbout para az\",0.46],[\"para dist\",\"postbout para alt\",0.46],[\"para dist\",\"postbout para dist\",1.0],[\"postbout para az\",\"bout number\",0.14],[\"postbout para az\",\"para az\",0.76],[\"postbout para az\",\"para alt\",0.64],[\"postbout para az\",\"para dist\",0.46],[\"postbout para az\",\"postbout para az\",1.0],[\"postbout para az\",\"postbout para alt\",0.64],[\"postbout para az\",\"postbout para dist\",0.46],[\"postbout para alt\",\"bout number\",0.06],[\"postbout para alt\",\"para az\",0.6],[\"postbout para alt\",\"para alt\",1.0],[\"postbout para alt\",\"para dist\",0.46],[\"postbout para alt\",\"postbout para az\",0.64],[\"postbout para alt\",\"postbout para alt\",1.0],[\"postbout para alt\",\"postbout para dist\",0.46],[\"postbout para dist\",\"bout number\",0.1],[\"postbout para dist\",\"para az\",0.44],[\"postbout para dist\",\"para alt\",0.46],[\"postbout para dist\",\"para dist\",1.0],[\"postbout para dist\",\"postbout para az\",0.46],[\"postbout para dist\",\"postbout para alt\",0.46],[\"postbout para dist\",\"postbout para dist\",1.0]]},[\"bout number\", \"para dist\", \"postbout para dist\", \"para alt\", \"postbout para alt\", \"para az\", \"postbout para az\"])"
      ],
      "text/plain": [
       "<IPython.core.display.Javascript object>"
      ]
     },
     "execution_count": 15,
     "metadata": {},
     "output_type": "execute_result"
    }
   ],
   "source": [
    "%bql .interactive_heatmap SELECT * FROM \"dependence_probabilities\""
   ]
  },
  {
   "cell_type": "code",
   "execution_count": 17,
   "metadata": {},
   "outputs": [],
   "source": [
    "def scatter_simulated_vs_real_data(x, y):\n",
    "    df_real = %bql SELECT  \"{x}\", \"{y}\"  FROM \"bout_table\"\n",
    "    N = len(df_real)\n",
    "    df_sim = %bql SIMULATE  \"{x}\", \"{y}\"  FROM \"bout_population\" LIMIT {N}\n",
    "    fig, ax = pl.subplots(1, 1, figsize=(15,15))\n",
    "    alpha = .4\n",
    "    sb.scatterplot(df_real[x], df_real[y], ax=ax, color=cpal[0], alpha=alpha)\n",
    "    sb.scatterplot(df_sim[x], df_sim[y], ax=ax, color=cpal[1], alpha=alpha)\n",
    "    pl.show()\n",
    "    return df_real, df_sim\n",
    "    \n",
    "    \n",
    "def make_regression_plots(df_real, df_sim, labels, colors):\n",
    "    fig, ax = pl.subplots(1,1, figsize=(15,15))\n",
    "    x1 = df_real[labels[0]]\n",
    "    y1 = df_real[labels[1]]\n",
    "    x2 = df_sim[labels[0]]\n",
    "    y2 = df_sim[labels[1]]\n",
    "    plot1 = sb.regplot(np.array(x1),\n",
    "                       np.array(y1), fit_reg=True,\n",
    "                       n_boot=100, robust=False,\n",
    "                       scatter_kws={'alpha': 0.15},\n",
    "                       color=colors[0])\n",
    "    plot2 = sb.regplot(np.array(x2),\n",
    "                       np.array(y2), fit_reg=True,\n",
    "                       n_boot=100,  robust=False,\n",
    "                       scatter_kws={'alpha': 0.15},\n",
    "                       color=colors[1])\n",
    "    plot1.set_xlabel(labels[0], fontsize=16)\n",
    "    plot1.set_ylabel(labels[1], fontsize=16)\n",
    "    p1x, p1y = plot1.get_lines()[1].get_data()\n",
    "    p2x, p2y = plot2.get_lines()[0].get_data()\n",
    "    slope1 = np.around((p1y[1] - p1y[0])/(p1x[1] - p1x[0]), 2)\n",
    "    slope2 = np.around((p2y[1] - p2y[0])/(p2x[1] - p2x[0]), 2)\n",
    "    yint1 = np.around(p1y[1] - slope1*p1x[1], 2)\n",
    "    yint2 = np.around(p2y[1] - slope2*p2x[1], 2)\n",
    "    coeff1_nanfilt = np.array(\n",
    "        [c1 for c1 in zip(x2, y2) if np.isfinite(c1).all()])\n",
    "    coeff2_nanfilt = np.array([c2 for c2 in zip(\n",
    "        x1, y1) if np.isfinite(c2).all()])\n",
    "    coeff1 = np.around(pearsonr(coeff1_nanfilt[:, 0],\n",
    "                                coeff1_nanfilt[:, 1])[0], 2)\n",
    "    coeff2 = np.around(pearsonr(coeff2_nanfilt[:, 0],\n",
    "                                coeff2_nanfilt[:, 1])[0], 2)\n",
    "    xinit = np.min(p1x[0], p2x[0])\n",
    "    plot1.text(xinit, 2.1, '  ' +\n",
    "               str(slope2) + 'x + ' + str(\n",
    "                   yint2) + ', ' + '$r^{2}$ = ' + str(coeff2**2),\n",
    "               color=colors[1], fontsize=14)\n",
    "    plot1.text(xinit, 1.7, '  ' +\n",
    "               str(slope1) + 'x + ' + str(\n",
    "                   yint1) + ', ' + '$r^{2}$ = ' + str(coeff1**2),\n",
    "               color=colors[0], fontsize=14)\n",
    "    if labels[1] != \"Bout Distance\" and labels[1] != \"Postbout Para Distance\":\n",
    "        plot1.set_ylim([-2.5, 2.5])\n",
    "    pl.show()\n",
    "    return fig\n"
   ]
  },
  {
   "cell_type": "code",
   "execution_count": 18,
   "metadata": {},
   "outputs": [
    {
     "name": "stdout",
     "output_type": "stream",
     "text": [
      "1402\n"
     ]
    },
    {
     "data": {
      "image/png": "[encoded data removed]",
      "text/plain": [
       "<matplotlib.figure.Figure at 0x7f4ea746acd0>"
      ]
     },
     "metadata": {},
     "output_type": "display_data"
    }
   ],
   "source": [
    "labels = ['Para Alt', 'Postbout Para Alt']\n",
    "dfr, dfs = plot_simulated_vs_real_data(labels[0], labels[1])\n",
    "make_regression_plots(dfr, dfs, labels, [cpal[0], cpal[1]])\n"
   ]
  },
  {
   "cell_type": "code",
   "execution_count": null,
   "metadata": {},
   "outputs": [],
   "source": []
  }
 ],
 "metadata": {
  "kernelspec": {
   "display_name": "Python 2",
   "language": "python",
   "name": "python2"
  },
  "language_info": {
   "codemirror_mode": {
    "name": "ipython",
    "version": 2
   },
   "file_extension": ".py",
   "mimetype": "text/x-python",
   "name": "python",
   "nbconvert_exporter": "python",
   "pygments_lexer": "ipython2",
   "version": "2.7.11"
  }
 },
 "nbformat": 4,
 "nbformat_minor": 2
}
