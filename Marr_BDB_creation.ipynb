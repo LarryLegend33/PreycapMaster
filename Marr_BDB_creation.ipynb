{
 "cells": [
  {
   "cell_type": "markdown",
   "metadata": {},
   "source": [
    "# BayesDB analysis of fish bouts in relation to paramecia characteristics"
   ]
  },
  {
   "cell_type": "markdown",
   "metadata": {},
   "source": [
    "## 1. Ingesting the data"
   ]
  },
  {
   "cell_type": "markdown",
   "metadata": {},
   "source": [
    "### a. Launching BayesDB"
   ]
  },
  {
   "cell_type": "code",
   "execution_count": 31,
   "metadata": {},
   "outputs": [],
   "source": [
    "from csv_analysis import invert_all_bouts\n",
    "import pandas as pd\n",
    "#drct = '042318_6/'\n",
    "drct = 'wik_bdb/'\n",
    "csv_file = drct + 'all_huntbouts_marr_nob0.csv'\n",
    "data = pd.read_csv(csv_file)\n",
    "#invert_all_bouts(data, drct)\n"
   ]
  },
  {
   "cell_type": "code",
   "execution_count": 32,
   "metadata": {
    "scrolled": true
   },
   "outputs": [
    {
     "name": "stdout",
     "output_type": "stream",
     "text": [
      "The jupyter_probcomp.magics extension is already loaded. To reload it, use:\n",
      "  %reload_ext jupyter_probcomp.magics\n"
     ]
    }
   ],
   "source": [
    "%load_ext jupyter_probcomp.magics"
   ]
  },
  {
   "cell_type": "code",
   "execution_count": 33,
   "metadata": {},
   "outputs": [
    {
     "data": {
      "application/javascript": [
       "//   Copyright (c) 2010-2016, MIT Probabilistic Computing Project\n",
       "//\n",
       "//   Licensed under the Apache License, Version 2.0 (the \"License\");\n",
       "//   you may not use this file except in compliance with the License.\n",
       "//   You may obtain a copy of the License at\n",
       "//\n",
       "//       http://www.apache.org/licenses/LICENSE-2.0\n",
       "//\n",
       "//   Unless required by applicable law or agreed to in writing, software\n",
       "//   distributed under the License is distributed on an \"AS IS\" BASIS,\n",
       "//   WITHOUT WARRANTIES OR CONDITIONS OF ANY KIND, either express or implied.\n",
       "//   See the License for the specific language governing permissions and\n",
       "//   limitations under the License.\n",
       "\n",
       "var myCell = element\n",
       "window.VizGPMReady = new Promise(resolve => {\n",
       "  $.getScript('https://probcomp-2.csail.mit.edu/vizgpm/vizgpm.js', function() {\n",
       "    myCell.append('Loaded VizGPM v' + VizGPM.version);\n",
       "    $.getScript('https://cdnjs.cloudflare.com/ajax/libs/lodash.js/4.17.4/lodash.js', function() {\n",
       "      myCell.append('Loaded lodash v' + _.VERSION);\n",
       "      VizGPM._ = _.noConflict();\n",
       "      resolve(VizGPM)\n",
       "    });\n",
       "  })\n",
       "})\n"
      ],
      "text/plain": [
       "<IPython.core.display.Javascript object>"
      ]
     },
     "execution_count": 33,
     "metadata": {},
     "output_type": "execute_result"
    }
   ],
   "source": [
    "%matplotlib inline\n",
    "%vizgpm inline"
   ]
  },
  {
   "cell_type": "code",
   "execution_count": 34,
   "metadata": {},
   "outputs": [
    {
     "data": {
      "text/plain": [
       "u'Loaded: wik_bdb/bdb_hunts_marr.bdb'"
      ]
     },
     "execution_count": 34,
     "metadata": {},
     "output_type": "execute_result"
    }
   ],
   "source": [
    "!rm -f wik_bdb/bdb_hunts_marr.bdb\n",
    "%bayesdb -j wik_bdb/bdb_hunts_marr.bdb\n",
    "\n"
   ]
  },
  {
   "cell_type": "markdown",
   "metadata": {},
   "source": [
    "### b. Loading and printing the data from a `.csv` file"
   ]
  },
  {
   "cell_type": "code",
   "execution_count": 35,
   "metadata": {},
   "outputs": [
    {
     "data": {
      "text/html": [
       "<div>\n",
       "<table border=\"1\" class=\"dataframe\">\n",
       "  <thead>\n",
       "    <tr style=\"text-align: right;\">\n",
       "      <th></th>\n",
       "    </tr>\n",
       "  </thead>\n",
       "  <tbody>\n",
       "  </tbody>\n",
       "</table>\n",
       "</div>"
      ],
      "text/plain": [
       "Empty DataFrame\n",
       "Columns: []\n",
       "Index: []"
      ]
     },
     "execution_count": 35,
     "metadata": {},
     "output_type": "execute_result"
    }
   ],
   "source": [
    "%sql DROP TABLE IF EXISTS bout_table;\n",
    "#%bql CREATE TABLE bout_table FROM 'wik_bdb/huntbouts_inverted.csv' \n",
    "%bql CREATE TABLE bout_table FROM 'wik_bdb/all_huntbouts_marr_nob0.csv'"
   ]
  },
  {
   "cell_type": "code",
   "execution_count": 36,
   "metadata": {},
   "outputs": [
    {
     "data": {
      "text/html": [
       "<div>\n",
       "<table border=\"1\" class=\"dataframe\">\n",
       "  <thead>\n",
       "    <tr style=\"text-align: right;\">\n",
       "      <th></th>\n",
       "      <th>Bout Number</th>\n",
       "      <th>Para Az</th>\n",
       "      <th>Para Alt</th>\n",
       "      <th>Para Dist</th>\n",
       "      <th>Postbout Para Az</th>\n",
       "      <th>Postbout Para Alt</th>\n",
       "      <th>Postbout Para Dist</th>\n",
       "    </tr>\n",
       "  </thead>\n",
       "  <tbody>\n",
       "    <tr>\n",
       "      <th>0</th>\n",
       "      <td>1.0</td>\n",
       "      <td>-0.162832</td>\n",
       "      <td>0.654781</td>\n",
       "      <td>305.528267</td>\n",
       "      <td>-0.158165</td>\n",
       "      <td>0.736650</td>\n",
       "      <td>286.473525</td>\n",
       "    </tr>\n",
       "    <tr>\n",
       "      <th>1</th>\n",
       "      <td>2.0</td>\n",
       "      <td>-0.179093</td>\n",
       "      <td>0.818221</td>\n",
       "      <td>281.527199</td>\n",
       "      <td>0.171628</td>\n",
       "      <td>0.271518</td>\n",
       "      <td>200.860390</td>\n",
       "    </tr>\n",
       "    <tr>\n",
       "      <th>2</th>\n",
       "      <td>3.0</td>\n",
       "      <td>0.073963</td>\n",
       "      <td>0.210280</td>\n",
       "      <td>134.098036</td>\n",
       "      <td>0.012218</td>\n",
       "      <td>0.210299</td>\n",
       "      <td>95.292186</td>\n",
       "    </tr>\n",
       "    <tr>\n",
       "      <th>3</th>\n",
       "      <td>4.0</td>\n",
       "      <td>0.108441</td>\n",
       "      <td>0.299536</td>\n",
       "      <td>77.905007</td>\n",
       "      <td>0.221962</td>\n",
       "      <td>0.746375</td>\n",
       "      <td>60.931606</td>\n",
       "    </tr>\n",
       "    <tr>\n",
       "      <th>4</th>\n",
       "      <td>1.0</td>\n",
       "      <td>0.198364</td>\n",
       "      <td>0.499294</td>\n",
       "      <td>282.973273</td>\n",
       "      <td>-0.067488</td>\n",
       "      <td>0.434303</td>\n",
       "      <td>188.771498</td>\n",
       "    </tr>\n",
       "  </tbody>\n",
       "</table>\n",
       "</div>"
      ],
      "text/plain": [
       "   Bout Number   Para Az  Para Alt   Para Dist  Postbout Para Az  \\\n",
       "0          1.0 -0.162832  0.654781  305.528267         -0.158165   \n",
       "1          2.0 -0.179093  0.818221  281.527199          0.171628   \n",
       "2          3.0  0.073963  0.210280  134.098036          0.012218   \n",
       "3          4.0  0.108441  0.299536   77.905007          0.221962   \n",
       "4          1.0  0.198364  0.499294  282.973273         -0.067488   \n",
       "\n",
       "   Postbout Para Alt  Postbout Para Dist  \n",
       "0           0.736650          286.473525  \n",
       "1           0.271518          200.860390  \n",
       "2           0.210299           95.292186  \n",
       "3           0.746375           60.931606  \n",
       "4           0.434303          188.771498  "
      ]
     },
     "execution_count": 36,
     "metadata": {},
     "output_type": "execute_result"
    }
   ],
   "source": [
    "%sql SELECT * FROM bout_table LIMIT 5;"
   ]
  },
  {
   "cell_type": "code",
   "execution_count": 37,
   "metadata": {},
   "outputs": [
    {
     "name": "stdout",
     "output_type": "stream",
     "text": [
      "Nullified 0 cells\n",
      "Nullified 150 cells\n"
     ]
    }
   ],
   "source": [
    "%bql .nullify bout_table ''\n",
    "%bql .nullify bout_table 'nan'"
   ]
  },
  {
   "cell_type": "markdown",
   "metadata": {},
   "source": [
    "## 2. Automatically learning a CrossCat probabilistic model"
   ]
  },
  {
   "cell_type": "markdown",
   "metadata": {},
   "source": [
    "### a. Defining an analysis population"
   ]
  },
  {
   "cell_type": "code",
   "execution_count": 38,
   "metadata": {},
   "outputs": [
    {
     "data": {
      "text/html": [
       "<div>\n",
       "<table border=\"1\" class=\"dataframe\">\n",
       "  <thead>\n",
       "    <tr style=\"text-align: right;\">\n",
       "      <th></th>\n",
       "      <th>column</th>\n",
       "      <th>stattype</th>\n",
       "      <th>num_distinct</th>\n",
       "      <th>reason</th>\n",
       "    </tr>\n",
       "  </thead>\n",
       "  <tbody>\n",
       "    <tr>\n",
       "      <th>0</th>\n",
       "      <td>Bout Number</td>\n",
       "      <td>numerical</td>\n",
       "      <td>24.0</td>\n",
       "      <td>There are at least 20 unique numerical values...</td>\n",
       "    </tr>\n",
       "    <tr>\n",
       "      <th>1</th>\n",
       "      <td>Para Az</td>\n",
       "      <td>numerical</td>\n",
       "      <td>1164.0</td>\n",
       "      <td>There are at least 20 unique numerical values...</td>\n",
       "    </tr>\n",
       "    <tr>\n",
       "      <th>2</th>\n",
       "      <td>Para Alt</td>\n",
       "      <td>numerical</td>\n",
       "      <td>1164.0</td>\n",
       "      <td>There are at least 20 unique numerical values...</td>\n",
       "    </tr>\n",
       "    <tr>\n",
       "      <th>3</th>\n",
       "      <td>Para Dist</td>\n",
       "      <td>numerical</td>\n",
       "      <td>1164.0</td>\n",
       "      <td>There are at least 20 unique numerical values...</td>\n",
       "    </tr>\n",
       "    <tr>\n",
       "      <th>4</th>\n",
       "      <td>Postbout Para Az</td>\n",
       "      <td>numerical</td>\n",
       "      <td>1113.0</td>\n",
       "      <td>There are at least 20 unique numerical values...</td>\n",
       "    </tr>\n",
       "    <tr>\n",
       "      <th>5</th>\n",
       "      <td>Postbout Para Alt</td>\n",
       "      <td>numerical</td>\n",
       "      <td>1113.0</td>\n",
       "      <td>There are at least 20 unique numerical values...</td>\n",
       "    </tr>\n",
       "    <tr>\n",
       "      <th>6</th>\n",
       "      <td>Postbout Para Dist</td>\n",
       "      <td>numerical</td>\n",
       "      <td>1113.0</td>\n",
       "      <td>There are at least 20 unique numerical values...</td>\n",
       "    </tr>\n",
       "  </tbody>\n",
       "</table>\n",
       "</div>"
      ],
      "text/plain": [
       "               column   stattype  num_distinct  \\\n",
       "0         Bout Number  numerical          24.0   \n",
       "1             Para Az  numerical        1164.0   \n",
       "2            Para Alt  numerical        1164.0   \n",
       "3           Para Dist  numerical        1164.0   \n",
       "4    Postbout Para Az  numerical        1113.0   \n",
       "5   Postbout Para Alt  numerical        1113.0   \n",
       "6  Postbout Para Dist  numerical        1113.0   \n",
       "\n",
       "                                              reason  \n",
       "0   There are at least 20 unique numerical values...  \n",
       "1   There are at least 20 unique numerical values...  \n",
       "2   There are at least 20 unique numerical values...  \n",
       "3   There are at least 20 unique numerical values...  \n",
       "4   There are at least 20 unique numerical values...  \n",
       "5   There are at least 20 unique numerical values...  \n",
       "6   There are at least 20 unique numerical values...  "
      ]
     },
     "execution_count": 38,
     "metadata": {},
     "output_type": "execute_result"
    }
   ],
   "source": [
    "%bql GUESS SCHEMA FOR bout_table"
   ]
  },
  {
   "cell_type": "code",
   "execution_count": 39,
   "metadata": {},
   "outputs": [
    {
     "data": {
      "text/html": [
       "<div>\n",
       "<table border=\"1\" class=\"dataframe\">\n",
       "  <thead>\n",
       "    <tr style=\"text-align: right;\">\n",
       "      <th></th>\n",
       "    </tr>\n",
       "  </thead>\n",
       "  <tbody>\n",
       "  </tbody>\n",
       "</table>\n",
       "</div>"
      ],
      "text/plain": [
       "Empty DataFrame\n",
       "Columns: []\n",
       "Index: []"
      ]
     },
     "execution_count": 39,
     "metadata": {},
     "output_type": "execute_result"
    }
   ],
   "source": [
    "%%mml\n",
    "DROP POPULATION IF EXISTS bout_population;\n",
    "CREATE POPULATION bout_population FOR bout_table WITH SCHEMA (GUESS STATTYPES OF (*);\n",
    "                          IGNORE \"Bout Number\";)"
   ]
  },
  {
   "cell_type": "markdown",
   "metadata": {},
   "source": [
    "### b. Creating and analyzing a probabilistic model (automatically)"
   ]
  },
  {
   "cell_type": "code",
   "execution_count": 40,
   "metadata": {},
   "outputs": [
    {
     "data": {
      "text/html": [
       "<div>\n",
       "<table border=\"1\" class=\"dataframe\">\n",
       "  <thead>\n",
       "    <tr style=\"text-align: right;\">\n",
       "      <th></th>\n",
       "    </tr>\n",
       "  </thead>\n",
       "  <tbody>\n",
       "  </tbody>\n",
       "</table>\n",
       "</div>"
      ],
      "text/plain": [
       "Empty DataFrame\n",
       "Columns: []\n",
       "Index: []"
      ]
     },
     "execution_count": 40,
     "metadata": {},
     "output_type": "execute_result"
    }
   ],
   "source": [
    "%mml CREATE GENERATOR marr_generator FOR bout_population;"
   ]
  },
  {
   "cell_type": "code",
   "execution_count": 41,
   "metadata": {},
   "outputs": [
    {
     "name": "stdout",
     "output_type": "stream",
     "text": [
      "Multiprocessing turned on from on.\n"
     ]
    }
   ],
   "source": [
    "%multiprocess on"
   ]
  },
  {
   "cell_type": "code",
   "execution_count": 42,
   "metadata": {},
   "outputs": [
    {
     "data": {
      "text/html": [
       "<div>\n",
       "<table border=\"1\" class=\"dataframe\">\n",
       "  <thead>\n",
       "    <tr style=\"text-align: right;\">\n",
       "      <th></th>\n",
       "    </tr>\n",
       "  </thead>\n",
       "  <tbody>\n",
       "  </tbody>\n",
       "</table>\n",
       "</div>"
      ],
      "text/plain": [
       "Empty DataFrame\n",
       "Columns: []\n",
       "Index: []"
      ]
     },
     "execution_count": 42,
     "metadata": {},
     "output_type": "execute_result"
    }
   ],
   "source": [
    "%mml INITIALIZE 50 MODELS IF NOT EXISTS FOR marr_generator;"
   ]
  },
  {
   "cell_type": "code",
   "execution_count": 43,
   "metadata": {},
   "outputs": [
    {
     "data": {
      "text/html": [
       "<div>\n",
       "<table border=\"1\" class=\"dataframe\">\n",
       "  <thead>\n",
       "    <tr style=\"text-align: right;\">\n",
       "      <th></th>\n",
       "    </tr>\n",
       "  </thead>\n",
       "  <tbody>\n",
       "  </tbody>\n",
       "</table>\n",
       "</div>"
      ],
      "text/plain": [
       "Empty DataFrame\n",
       "Columns: []\n",
       "Index: []"
      ]
     },
     "execution_count": 43,
     "metadata": {},
     "output_type": "execute_result"
    }
   ],
   "source": [
    "%mml ALTER GENERATOR \"marr_generator\" ENSURE VARIABLES * DEPENDENT;"
   ]
  },
  {
   "cell_type": "code",
   "execution_count": 44,
   "metadata": {
    "scrolled": true
   },
   "outputs": [
    {
     "name": "stdout",
     "output_type": "stream",
     "text": [
      "Completed: 100 iterations in 759.348661 seconds.\n",
      "Completed: 100 iterations in 898.248162 seconds.\n",
      "Completed: 100 iterations in 754.216420 seconds.\n",
      "Completed: 100 iterations in 825.218060 seconds.\n",
      "Completed: 100 iterations in 1037.278390 seconds.\n",
      "Completed: 100 iterations in 1370.180199 seconds.\n",
      "Completed: 100 iterations in 933.931300 seconds.\n",
      "Completed: 100 iterations in 1121.893041 seconds.\n",
      "Completed: 100 iterations in 1111.002343 seconds.\n",
      "Completed: 100 iterations in 1213.503775 seconds.\n",
      "Completed: 100 iterations in 1068.450452 seconds.\n",
      "Completed: 100 iterations in 628.763136 seconds.\n",
      "Completed: 100 iterations in 888.211892 seconds.\n",
      "Completed: 100 iterations in 712.577730 seconds.\n",
      "Completed: 100 iterations in 857.564495 seconds.\n",
      "Completed: 100 iterations in 764.932816 seconds.\n",
      "Completed: 100 iterations in 648.070188 seconds.\n",
      "Completed: 100 iterations in 1094.853770 seconds.\n",
      "Completed: 100 iterations in 1943.790969 seconds.\n",
      "Completed: 100 iterations in 1313.207370 seconds.\n",
      "Completed: 100 iterations in 1262.110125 seconds.\n",
      "Completed: 100 iterations in 1027.828344 seconds.\n",
      "Completed: 100 iterations in 5812.958035 seconds.\n",
      "Completed: 100 iterations in 5880.572926 seconds.\n",
      "Completed: 100 iterations in 992.375634 seconds.\n",
      "Completed: 100 iterations in 1119.898548 seconds.\n",
      "Completed: 100 iterations in 820.842004 seconds.\n",
      "Completed: 100 iterations in 1273.649670 seconds.\n",
      "Completed: 100 iterations in 1212.155150 seconds.\n",
      "Completed: 100 iterations in 1048.228257 seconds.\n",
      "Completed: 100 iterations in 1178.873775 seconds.\n",
      "Completed: 100 iterations in 619.025503 seconds.\n",
      "Completed: 100 iterations in 705.648992 seconds.\n",
      "Completed: 100 iterations in 648.658116 seconds.\n",
      "Completed: 100 iterations in 978.041433 seconds.\n",
      "Completed: 100 iterations in 1236.284639 seconds.\n",
      "Completed: 100 iterations in 767.070239 seconds.\n",
      "Completed: 100 iterations in 925.148689 seconds.\n",
      "Completed: 100 iterations in 814.467558 seconds.\n",
      "Completed: 100 iterations in 1413.278344 seconds.\n",
      "Completed: 100 iterations in 773.201635 seconds.\n",
      "Completed: 100 iterations in 813.676682 seconds.\n",
      "Completed: 100 iterations in 1030.764884 seconds.\n",
      "Completed: 100 iterations in 874.198645 seconds.\n",
      "Completed: 100 iterations in 616.599344 seconds.\n",
      "Completed: 100 iterations in 852.982036 seconds.\n",
      "Completed: 100 iterations in 908.358482 seconds.\n",
      "Completed: 100 iterations in 872.098102 seconds.\n",
      "Completed: 100 iterations in 1419.277985 seconds.\n",
      "Completed: 100 iterations in 941.359615 seconds.\n"
     ]
    },
    {
     "data": {
      "text/html": [
       "<div>\n",
       "<table border=\"1\" class=\"dataframe\">\n",
       "  <thead>\n",
       "    <tr style=\"text-align: right;\">\n",
       "      <th></th>\n",
       "    </tr>\n",
       "  </thead>\n",
       "  <tbody>\n",
       "  </tbody>\n",
       "</table>\n",
       "</div>"
      ],
      "text/plain": [
       "Empty DataFrame\n",
       "Columns: []\n",
       "Index: []"
      ]
     },
     "execution_count": 44,
     "metadata": {},
     "output_type": "execute_result"
    }
   ],
   "source": [
    "%mml ANALYZE marr_generator FOR 100 ITERATIONS;\n",
    "# note you can use the (OPTIMIZED) flag here but that gave you weird results last time. "
   ]
  },
  {
   "cell_type": "code",
   "execution_count": null,
   "metadata": {},
   "outputs": [],
   "source": []
  }
 ],
 "metadata": {
  "kernelspec": {
   "display_name": "Python 2",
   "language": "python",
   "name": "python2"
  },
  "language_info": {
   "codemirror_mode": {
    "name": "ipython",
    "version": 2
   },
   "file_extension": ".py",
   "mimetype": "text/x-python",
   "name": "python",
   "nbconvert_exporter": "python",
   "pygments_lexer": "ipython2",
   "version": "2.7.11"
  }
 },
 "nbformat": 4,
 "nbformat_minor": 2
}
