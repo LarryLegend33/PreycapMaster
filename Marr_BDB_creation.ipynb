{
 "cells": [
  {
   "cell_type": "markdown",
   "metadata": {},
   "source": [
    "# BayesDB analysis of fish bouts in relation to paramecia characteristics"
   ]
  },
  {
   "cell_type": "markdown",
   "metadata": {},
   "source": [
    "## 1. Ingesting the data"
   ]
  },
  {
   "cell_type": "markdown",
   "metadata": {},
   "source": [
    "### a. Launching BayesDB"
   ]
  },
  {
   "cell_type": "code",
   "execution_count": 1,
   "metadata": {},
   "outputs": [],
   "source": [
    "from csv_analysis import invert_all_bouts\n",
    "import pandas as pd\n",
    "#drct = '042318_6/'\n",
    "drct = 'wik_bdb/'\n",
    "csv_file = drct + 'all_huntbouts_marr.csv'\n",
    "data = pd.read_csv(csv_file)\n",
    "#invert_all_bouts(data, drct)\n"
   ]
  },
  {
   "cell_type": "code",
   "execution_count": 2,
   "metadata": {},
   "outputs": [
    {
     "name": "stdout",
     "output_type": "stream",
     "text": [
      "session_id: jovyan@nightcrawler2-notebook_2019-03-28T00:02:04.378307_9\n"
     ]
    }
   ],
   "source": [
    "%load_ext jupyter_probcomp.magics"
   ]
  },
  {
   "cell_type": "code",
   "execution_count": 3,
   "metadata": {},
   "outputs": [
    {
     "data": {
      "application/javascript": [
       "//   Copyright (c) 2010-2016, MIT Probabilistic Computing Project\n",
       "//\n",
       "//   Licensed under the Apache License, Version 2.0 (the \"License\");\n",
       "//   you may not use this file except in compliance with the License.\n",
       "//   You may obtain a copy of the License at\n",
       "//\n",
       "//       http://www.apache.org/licenses/LICENSE-2.0\n",
       "//\n",
       "//   Unless required by applicable law or agreed to in writing, software\n",
       "//   distributed under the License is distributed on an \"AS IS\" BASIS,\n",
       "//   WITHOUT WARRANTIES OR CONDITIONS OF ANY KIND, either express or implied.\n",
       "//   See the License for the specific language governing permissions and\n",
       "//   limitations under the License.\n",
       "\n",
       "var myCell = element\n",
       "window.VizGPMReady = new Promise(resolve => {\n",
       "  $.getScript('https://probcomp-2.csail.mit.edu/vizgpm/vizgpm.js', function() {\n",
       "    myCell.append('Loaded VizGPM v' + VizGPM.version);\n",
       "    $.getScript('https://cdnjs.cloudflare.com/ajax/libs/lodash.js/4.17.4/lodash.js', function() {\n",
       "      myCell.append('Loaded lodash v' + _.VERSION);\n",
       "      VizGPM._ = _.noConflict();\n",
       "      resolve(VizGPM)\n",
       "    });\n",
       "  })\n",
       "})\n"
      ],
      "text/plain": [
       "<IPython.core.display.Javascript object>"
      ]
     },
     "execution_count": 3,
     "metadata": {},
     "output_type": "execute_result"
    }
   ],
   "source": [
    "%matplotlib inline\n",
    "%vizgpm inline"
   ]
  },
  {
   "cell_type": "code",
   "execution_count": 4,
   "metadata": {},
   "outputs": [
    {
     "data": {
      "text/plain": [
       "u'Loaded: wik_bdb/bdb_hunts_marr.bdb'"
      ]
     },
     "execution_count": 4,
     "metadata": {},
     "output_type": "execute_result"
    }
   ],
   "source": [
    "!rm -f wik_bdb/bdb_hunts_marr.bdb\n",
    "%bayesdb -j wik_bdb/bdb_hunts_marr.bdb\n",
    "\n"
   ]
  },
  {
   "cell_type": "markdown",
   "metadata": {},
   "source": [
    "### b. Loading and printing the data from a `.csv` file"
   ]
  },
  {
   "cell_type": "code",
   "execution_count": 5,
   "metadata": {},
   "outputs": [
    {
     "data": {
      "text/html": [
       "<div>\n",
       "<table border=\"1\" class=\"dataframe\">\n",
       "  <thead>\n",
       "    <tr style=\"text-align: right;\">\n",
       "      <th></th>\n",
       "    </tr>\n",
       "  </thead>\n",
       "  <tbody>\n",
       "  </tbody>\n",
       "</table>\n",
       "</div>"
      ],
      "text/plain": [
       "Empty DataFrame\n",
       "Columns: []\n",
       "Index: []"
      ]
     },
     "execution_count": 5,
     "metadata": {},
     "output_type": "execute_result"
    }
   ],
   "source": [
    "%sql DROP TABLE IF EXISTS bout_table;\n",
    "#%bql CREATE TABLE bout_table FROM 'wik_bdb/huntbouts_inverted.csv' \n",
    "%bql CREATE TABLE bout_table FROM 'wik_bdb/all_huntbouts_marr.csv'"
   ]
  },
  {
   "cell_type": "code",
   "execution_count": 6,
   "metadata": {},
   "outputs": [
    {
     "data": {
      "text/html": [
       "<div>\n",
       "<table border=\"1\" class=\"dataframe\">\n",
       "  <thead>\n",
       "    <tr style=\"text-align: right;\">\n",
       "      <th></th>\n",
       "      <th>Bout Number</th>\n",
       "      <th>Para Az</th>\n",
       "      <th>Para Alt</th>\n",
       "      <th>Para Dist</th>\n",
       "      <th>Postbout Para Az</th>\n",
       "      <th>Postbout Para Alt</th>\n",
       "      <th>Postbout Para Dist</th>\n",
       "      <th>Strike Or Abort</th>\n",
       "    </tr>\n",
       "  </thead>\n",
       "  <tbody>\n",
       "    <tr>\n",
       "      <th>0</th>\n",
       "      <td>0.0</td>\n",
       "      <td>-0.977032</td>\n",
       "      <td>0.629180</td>\n",
       "      <td>354.291281</td>\n",
       "      <td>-0.175346</td>\n",
       "      <td>0.592776</td>\n",
       "      <td>299.960989</td>\n",
       "      <td>2.0</td>\n",
       "    </tr>\n",
       "    <tr>\n",
       "      <th>1</th>\n",
       "      <td>1.0</td>\n",
       "      <td>-0.162832</td>\n",
       "      <td>0.654781</td>\n",
       "      <td>305.528267</td>\n",
       "      <td>-0.158165</td>\n",
       "      <td>0.736650</td>\n",
       "      <td>286.473525</td>\n",
       "      <td>2.0</td>\n",
       "    </tr>\n",
       "    <tr>\n",
       "      <th>2</th>\n",
       "      <td>2.0</td>\n",
       "      <td>-0.179093</td>\n",
       "      <td>0.818221</td>\n",
       "      <td>281.527199</td>\n",
       "      <td>0.171628</td>\n",
       "      <td>0.271518</td>\n",
       "      <td>200.860390</td>\n",
       "      <td>2.0</td>\n",
       "    </tr>\n",
       "    <tr>\n",
       "      <th>3</th>\n",
       "      <td>3.0</td>\n",
       "      <td>0.073963</td>\n",
       "      <td>0.210280</td>\n",
       "      <td>134.098036</td>\n",
       "      <td>0.012218</td>\n",
       "      <td>0.210299</td>\n",
       "      <td>95.292186</td>\n",
       "      <td>2.0</td>\n",
       "    </tr>\n",
       "    <tr>\n",
       "      <th>4</th>\n",
       "      <td>4.0</td>\n",
       "      <td>0.108441</td>\n",
       "      <td>0.299536</td>\n",
       "      <td>77.905007</td>\n",
       "      <td>0.221962</td>\n",
       "      <td>0.746375</td>\n",
       "      <td>60.931606</td>\n",
       "      <td>2.0</td>\n",
       "    </tr>\n",
       "  </tbody>\n",
       "</table>\n",
       "</div>"
      ],
      "text/plain": [
       "   Bout Number   Para Az  Para Alt   Para Dist  Postbout Para Az  \\\n",
       "0          0.0 -0.977032  0.629180  354.291281         -0.175346   \n",
       "1          1.0 -0.162832  0.654781  305.528267         -0.158165   \n",
       "2          2.0 -0.179093  0.818221  281.527199          0.171628   \n",
       "3          3.0  0.073963  0.210280  134.098036          0.012218   \n",
       "4          4.0  0.108441  0.299536   77.905007          0.221962   \n",
       "\n",
       "   Postbout Para Alt  Postbout Para Dist  Strike Or Abort  \n",
       "0           0.592776          299.960989              2.0  \n",
       "1           0.736650          286.473525              2.0  \n",
       "2           0.271518          200.860390              2.0  \n",
       "3           0.210299           95.292186              2.0  \n",
       "4           0.746375           60.931606              2.0  "
      ]
     },
     "execution_count": 6,
     "metadata": {},
     "output_type": "execute_result"
    }
   ],
   "source": [
    "%sql SELECT * FROM bout_table LIMIT 5;"
   ]
  },
  {
   "cell_type": "code",
   "execution_count": 7,
   "metadata": {},
   "outputs": [
    {
     "name": "stdout",
     "output_type": "stream",
     "text": [
      "Nullified 0 cells\n",
      "Nullified 156 cells\n"
     ]
    }
   ],
   "source": [
    "%bql .nullify bout_table ''\n",
    "%bql .nullify bout_table 'nan'"
   ]
  },
  {
   "cell_type": "markdown",
   "metadata": {},
   "source": [
    "## 2. Automatically learning a CrossCat probabilistic model"
   ]
  },
  {
   "cell_type": "markdown",
   "metadata": {},
   "source": [
    "### a. Defining an analysis population"
   ]
  },
  {
   "cell_type": "code",
   "execution_count": 8,
   "metadata": {},
   "outputs": [
    {
     "data": {
      "text/html": [
       "<div>\n",
       "<table border=\"1\" class=\"dataframe\">\n",
       "  <thead>\n",
       "    <tr style=\"text-align: right;\">\n",
       "      <th></th>\n",
       "      <th>column</th>\n",
       "      <th>stattype</th>\n",
       "      <th>num_distinct</th>\n",
       "      <th>reason</th>\n",
       "    </tr>\n",
       "  </thead>\n",
       "  <tbody>\n",
       "    <tr>\n",
       "      <th>0</th>\n",
       "      <td>Bout Number</td>\n",
       "      <td>nominal</td>\n",
       "      <td>25.0</td>\n",
       "      <td>There are fewer than 20 distinct numerical va...</td>\n",
       "    </tr>\n",
       "    <tr>\n",
       "      <th>1</th>\n",
       "      <td>Para Az</td>\n",
       "      <td>numerical</td>\n",
       "      <td>1402.0</td>\n",
       "      <td>There are at least 20 unique numerical values...</td>\n",
       "    </tr>\n",
       "    <tr>\n",
       "      <th>2</th>\n",
       "      <td>Para Alt</td>\n",
       "      <td>numerical</td>\n",
       "      <td>1402.0</td>\n",
       "      <td>There are at least 20 unique numerical values...</td>\n",
       "    </tr>\n",
       "    <tr>\n",
       "      <th>3</th>\n",
       "      <td>Para Dist</td>\n",
       "      <td>numerical</td>\n",
       "      <td>1402.0</td>\n",
       "      <td>There are at least 20 unique numerical values...</td>\n",
       "    </tr>\n",
       "    <tr>\n",
       "      <th>4</th>\n",
       "      <td>Postbout Para Az</td>\n",
       "      <td>numerical</td>\n",
       "      <td>1349.0</td>\n",
       "      <td>There are at least 20 unique numerical values...</td>\n",
       "    </tr>\n",
       "    <tr>\n",
       "      <th>5</th>\n",
       "      <td>Postbout Para Alt</td>\n",
       "      <td>numerical</td>\n",
       "      <td>1349.0</td>\n",
       "      <td>There are at least 20 unique numerical values...</td>\n",
       "    </tr>\n",
       "    <tr>\n",
       "      <th>6</th>\n",
       "      <td>Postbout Para Dist</td>\n",
       "      <td>numerical</td>\n",
       "      <td>1349.0</td>\n",
       "      <td>There are at least 20 unique numerical values...</td>\n",
       "    </tr>\n",
       "    <tr>\n",
       "      <th>7</th>\n",
       "      <td>Strike Or Abort</td>\n",
       "      <td>nominal</td>\n",
       "      <td>2.0</td>\n",
       "      <td>There are fewer than 20 distinct numerical va...</td>\n",
       "    </tr>\n",
       "  </tbody>\n",
       "</table>\n",
       "</div>"
      ],
      "text/plain": [
       "               column   stattype  num_distinct  \\\n",
       "0         Bout Number    nominal          25.0   \n",
       "1             Para Az  numerical        1402.0   \n",
       "2            Para Alt  numerical        1402.0   \n",
       "3           Para Dist  numerical        1402.0   \n",
       "4    Postbout Para Az  numerical        1349.0   \n",
       "5   Postbout Para Alt  numerical        1349.0   \n",
       "6  Postbout Para Dist  numerical        1349.0   \n",
       "7     Strike Or Abort    nominal           2.0   \n",
       "\n",
       "                                              reason  \n",
       "0   There are fewer than 20 distinct numerical va...  \n",
       "1   There are at least 20 unique numerical values...  \n",
       "2   There are at least 20 unique numerical values...  \n",
       "3   There are at least 20 unique numerical values...  \n",
       "4   There are at least 20 unique numerical values...  \n",
       "5   There are at least 20 unique numerical values...  \n",
       "6   There are at least 20 unique numerical values...  \n",
       "7   There are fewer than 20 distinct numerical va...  "
      ]
     },
     "execution_count": 8,
     "metadata": {},
     "output_type": "execute_result"
    }
   ],
   "source": [
    "%bql GUESS SCHEMA FOR bout_table"
   ]
  },
  {
   "cell_type": "code",
   "execution_count": 9,
   "metadata": {},
   "outputs": [
    {
     "data": {
      "text/html": [
       "<div>\n",
       "<table border=\"1\" class=\"dataframe\">\n",
       "  <thead>\n",
       "    <tr style=\"text-align: right;\">\n",
       "      <th></th>\n",
       "    </tr>\n",
       "  </thead>\n",
       "  <tbody>\n",
       "  </tbody>\n",
       "</table>\n",
       "</div>"
      ],
      "text/plain": [
       "Empty DataFrame\n",
       "Columns: []\n",
       "Index: []"
      ]
     },
     "execution_count": 9,
     "metadata": {},
     "output_type": "execute_result"
    }
   ],
   "source": [
    "%%mml\n",
    "DROP POPULATION IF EXISTS bout_population;\n",
    "CREATE POPULATION bout_population FOR bout_table WITH SCHEMA (GUESS STATTYPES OF (*);\n",
    "                          IGNORE \"Strike Or Abort\", \"Bout Number\";)"
   ]
  },
  {
   "cell_type": "markdown",
   "metadata": {},
   "source": [
    "### b. Creating and analyzing a probabilistic model (automatically)"
   ]
  },
  {
   "cell_type": "code",
   "execution_count": 10,
   "metadata": {},
   "outputs": [
    {
     "data": {
      "text/html": [
       "<div>\n",
       "<table border=\"1\" class=\"dataframe\">\n",
       "  <thead>\n",
       "    <tr style=\"text-align: right;\">\n",
       "      <th></th>\n",
       "    </tr>\n",
       "  </thead>\n",
       "  <tbody>\n",
       "  </tbody>\n",
       "</table>\n",
       "</div>"
      ],
      "text/plain": [
       "Empty DataFrame\n",
       "Columns: []\n",
       "Index: []"
      ]
     },
     "execution_count": 10,
     "metadata": {},
     "output_type": "execute_result"
    }
   ],
   "source": [
    "%mml CREATE GENERATOR marr_generator FOR bout_population;"
   ]
  },
  {
   "cell_type": "code",
   "execution_count": 11,
   "metadata": {},
   "outputs": [
    {
     "name": "stdout",
     "output_type": "stream",
     "text": [
      "Multiprocessing turned on from on.\n"
     ]
    }
   ],
   "source": [
    "%multiprocess on"
   ]
  },
  {
   "cell_type": "code",
   "execution_count": 12,
   "metadata": {},
   "outputs": [
    {
     "data": {
      "text/html": [
       "<div>\n",
       "<table border=\"1\" class=\"dataframe\">\n",
       "  <thead>\n",
       "    <tr style=\"text-align: right;\">\n",
       "      <th></th>\n",
       "    </tr>\n",
       "  </thead>\n",
       "  <tbody>\n",
       "  </tbody>\n",
       "</table>\n",
       "</div>"
      ],
      "text/plain": [
       "Empty DataFrame\n",
       "Columns: []\n",
       "Index: []"
      ]
     },
     "execution_count": 12,
     "metadata": {},
     "output_type": "execute_result"
    }
   ],
   "source": [
    "%mml INITIALIZE 50 MODELS IF NOT EXISTS FOR marr_generator;"
   ]
  },
  {
   "cell_type": "code",
   "execution_count": 13,
   "metadata": {},
   "outputs": [
    {
     "data": {
      "text/html": [
       "<div>\n",
       "<table border=\"1\" class=\"dataframe\">\n",
       "  <thead>\n",
       "    <tr style=\"text-align: right;\">\n",
       "      <th></th>\n",
       "    </tr>\n",
       "  </thead>\n",
       "  <tbody>\n",
       "  </tbody>\n",
       "</table>\n",
       "</div>"
      ],
      "text/plain": [
       "Empty DataFrame\n",
       "Columns: []\n",
       "Index: []"
      ]
     },
     "execution_count": 13,
     "metadata": {},
     "output_type": "execute_result"
    }
   ],
   "source": [
    "%mml ALTER GENERATOR \"marr_generator\" ENSURE VARIABLES * DEPENDENT;"
   ]
  },
  {
   "cell_type": "code",
   "execution_count": null,
   "metadata": {
    "scrolled": true
   },
   "outputs": [
    {
     "name": "stdout",
     "output_type": "stream",
     "text": [
      "Completed: 100 iterations in 1248.275514 seconds.\n",
      "Completed: 100 iterations in 1430.680435 seconds.\n",
      "Completed: 100 iterations in 1338.850218 seconds.\n",
      "Completed: 100 iterations in 1256.344098 seconds.\n",
      "[================              ] 56.00%"
     ]
    }
   ],
   "source": [
    "%mml ANALYZE marr_generator FOR 100 ITERATIONS;\n",
    "# note you can use the (OPTIMIZED) flag here but that gave you weird results last time. "
   ]
  },
  {
   "cell_type": "code",
   "execution_count": null,
   "metadata": {},
   "outputs": [],
   "source": []
  }
 ],
 "metadata": {
  "kernelspec": {
   "display_name": "Python 2",
   "language": "python",
   "name": "python2"
  },
  "language_info": {
   "codemirror_mode": {
    "name": "ipython",
    "version": 2
   },
   "file_extension": ".py",
   "mimetype": "text/x-python",
   "name": "python",
   "nbconvert_exporter": "python",
   "pygments_lexer": "ipython2",
   "version": "2.7.11"
  }
 },
 "nbformat": 4,
 "nbformat_minor": 2
}
