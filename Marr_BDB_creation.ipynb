{
 "cells": [
  {
   "cell_type": "markdown",
   "metadata": {},
   "source": [
    "# BayesDB analysis of fish bouts in relation to paramecia characteristics"
   ]
  },
  {
   "cell_type": "markdown",
   "metadata": {},
   "source": [
    "## 1. Ingesting the data"
   ]
  },
  {
   "cell_type": "markdown",
   "metadata": {},
   "source": [
    "### a. Launching BayesDB"
   ]
  },
  {
   "cell_type": "code",
   "execution_count": 2,
   "metadata": {},
   "outputs": [],
   "source": [
    "from csv_analysis import invert_all_bouts\n",
    "import pandas as pd\n",
    "#drct = '042318_6/'\n",
    "drct = 'wik_bdb/'\n",
    "csv_file = drct + 'all_huntbouts_marr_nob0_nostrike.csv'\n",
    "data = pd.read_csv(csv_file)\n",
    "#invert_all_bouts(data, drct)\n"
   ]
  },
  {
   "cell_type": "code",
   "execution_count": 3,
   "metadata": {
    "scrolled": true
   },
   "outputs": [
    {
     "name": "stdout",
     "output_type": "stream",
     "text": [
      "session_id: jovyan@nightcrawler2-notebook_2019-05-08T13:20:50.037069_4\n"
     ]
    }
   ],
   "source": [
    "%load_ext jupyter_probcomp.magics"
   ]
  },
  {
   "cell_type": "code",
   "execution_count": 4,
   "metadata": {},
   "outputs": [
    {
     "data": {
      "application/javascript": [
       "//   Copyright (c) 2010-2016, MIT Probabilistic Computing Project\n",
       "//\n",
       "//   Licensed under the Apache License, Version 2.0 (the \"License\");\n",
       "//   you may not use this file except in compliance with the License.\n",
       "//   You may obtain a copy of the License at\n",
       "//\n",
       "//       http://www.apache.org/licenses/LICENSE-2.0\n",
       "//\n",
       "//   Unless required by applicable law or agreed to in writing, software\n",
       "//   distributed under the License is distributed on an \"AS IS\" BASIS,\n",
       "//   WITHOUT WARRANTIES OR CONDITIONS OF ANY KIND, either express or implied.\n",
       "//   See the License for the specific language governing permissions and\n",
       "//   limitations under the License.\n",
       "\n",
       "var myCell = element\n",
       "window.VizGPMReady = new Promise(resolve => {\n",
       "  $.getScript('https://probcomp-2.csail.mit.edu/vizgpm/vizgpm.js', function() {\n",
       "    myCell.append('Loaded VizGPM v' + VizGPM.version);\n",
       "    $.getScript('https://cdnjs.cloudflare.com/ajax/libs/lodash.js/4.17.4/lodash.js', function() {\n",
       "      myCell.append('Loaded lodash v' + _.VERSION);\n",
       "      VizGPM._ = _.noConflict();\n",
       "      resolve(VizGPM)\n",
       "    });\n",
       "  })\n",
       "})\n"
      ],
      "text/plain": [
       "<IPython.core.display.Javascript object>"
      ]
     },
     "execution_count": 4,
     "metadata": {},
     "output_type": "execute_result"
    }
   ],
   "source": [
    "%matplotlib inline\n",
    "%vizgpm inline"
   ]
  },
  {
   "cell_type": "code",
   "execution_count": 5,
   "metadata": {},
   "outputs": [
    {
     "data": {
      "text/plain": [
       "u'Loaded: wik_bdb/bdb_hunts_marr.bdb'"
      ]
     },
     "execution_count": 5,
     "metadata": {},
     "output_type": "execute_result"
    }
   ],
   "source": [
    "!rm -f wik_bdb/bdb_hunts_marr.bdb\n",
    "%bayesdb -j wik_bdb/bdb_hunts_marr.bdb\n",
    "\n"
   ]
  },
  {
   "cell_type": "markdown",
   "metadata": {},
   "source": [
    "### b. Loading and printing the data from a `.csv` file"
   ]
  },
  {
   "cell_type": "code",
   "execution_count": 6,
   "metadata": {},
   "outputs": [
    {
     "data": {
      "text/html": [
       "<div>\n",
       "<table border=\"1\" class=\"dataframe\">\n",
       "  <thead>\n",
       "    <tr style=\"text-align: right;\">\n",
       "      <th></th>\n",
       "    </tr>\n",
       "  </thead>\n",
       "  <tbody>\n",
       "  </tbody>\n",
       "</table>\n",
       "</div>"
      ],
      "text/plain": [
       "Empty DataFrame\n",
       "Columns: []\n",
       "Index: []"
      ]
     },
     "execution_count": 6,
     "metadata": {},
     "output_type": "execute_result"
    }
   ],
   "source": [
    "%sql DROP TABLE IF EXISTS bout_table;\n",
    "#%bql CREATE TABLE bout_table FROM 'wik_bdb/huntbouts_inverted.csv' \n",
    "%bql CREATE TABLE bout_table FROM 'wik_bdb/all_huntbouts_marr_nob0_nostrike.csv'"
   ]
  },
  {
   "cell_type": "code",
   "execution_count": 7,
   "metadata": {},
   "outputs": [
    {
     "data": {
      "text/html": [
       "<div>\n",
       "<table border=\"1\" class=\"dataframe\">\n",
       "  <thead>\n",
       "    <tr style=\"text-align: right;\">\n",
       "      <th></th>\n",
       "      <th>Bout Number</th>\n",
       "      <th>Para Az</th>\n",
       "      <th>Para Alt</th>\n",
       "      <th>Para Dist</th>\n",
       "      <th>Postbout Para Az</th>\n",
       "      <th>Postbout Para Alt</th>\n",
       "      <th>Postbout Para Dist</th>\n",
       "    </tr>\n",
       "  </thead>\n",
       "  <tbody>\n",
       "    <tr>\n",
       "      <th>0</th>\n",
       "      <td>1.0</td>\n",
       "      <td>0.017831</td>\n",
       "      <td>0.659219</td>\n",
       "      <td>90.223577</td>\n",
       "      <td>-0.122253</td>\n",
       "      <td>0.179276</td>\n",
       "      <td>86.955144</td>\n",
       "    </tr>\n",
       "    <tr>\n",
       "      <th>1</th>\n",
       "      <td>2.0</td>\n",
       "      <td>-0.290174</td>\n",
       "      <td>0.157606</td>\n",
       "      <td>153.124859</td>\n",
       "      <td>-0.275967</td>\n",
       "      <td>0.322912</td>\n",
       "      <td>125.122296</td>\n",
       "    </tr>\n",
       "    <tr>\n",
       "      <th>2</th>\n",
       "      <td>3.0</td>\n",
       "      <td>-0.254112</td>\n",
       "      <td>0.324604</td>\n",
       "      <td>121.740275</td>\n",
       "      <td>0.053819</td>\n",
       "      <td>0.341071</td>\n",
       "      <td>92.544562</td>\n",
       "    </tr>\n",
       "    <tr>\n",
       "      <th>3</th>\n",
       "      <td>1.0</td>\n",
       "      <td>0.026260</td>\n",
       "      <td>0.380699</td>\n",
       "      <td>258.205861</td>\n",
       "      <td>0.167752</td>\n",
       "      <td>0.582927</td>\n",
       "      <td>181.386225</td>\n",
       "    </tr>\n",
       "    <tr>\n",
       "      <th>4</th>\n",
       "      <td>2.0</td>\n",
       "      <td>0.211294</td>\n",
       "      <td>0.613286</td>\n",
       "      <td>170.139844</td>\n",
       "      <td>-0.134130</td>\n",
       "      <td>0.401721</td>\n",
       "      <td>109.953785</td>\n",
       "    </tr>\n",
       "  </tbody>\n",
       "</table>\n",
       "</div>"
      ],
      "text/plain": [
       "   Bout Number   Para Az  Para Alt   Para Dist  Postbout Para Az  \\\n",
       "0          1.0  0.017831  0.659219   90.223577         -0.122253   \n",
       "1          2.0 -0.290174  0.157606  153.124859         -0.275967   \n",
       "2          3.0 -0.254112  0.324604  121.740275          0.053819   \n",
       "3          1.0  0.026260  0.380699  258.205861          0.167752   \n",
       "4          2.0  0.211294  0.613286  170.139844         -0.134130   \n",
       "\n",
       "   Postbout Para Alt  Postbout Para Dist  \n",
       "0           0.179276           86.955144  \n",
       "1           0.322912          125.122296  \n",
       "2           0.341071           92.544562  \n",
       "3           0.582927          181.386225  \n",
       "4           0.401721          109.953785  "
      ]
     },
     "execution_count": 7,
     "metadata": {},
     "output_type": "execute_result"
    }
   ],
   "source": [
    "%sql SELECT * FROM bout_table LIMIT 5;"
   ]
  },
  {
   "cell_type": "code",
   "execution_count": 8,
   "metadata": {},
   "outputs": [
    {
     "name": "stdout",
     "output_type": "stream",
     "text": [
      "Nullified 0 cells\n",
      "Nullified 276 cells\n"
     ]
    }
   ],
   "source": [
    "%bql .nullify bout_table ''\n",
    "%bql .nullify bout_table 'nan'"
   ]
  },
  {
   "cell_type": "markdown",
   "metadata": {},
   "source": [
    "## 2. Automatically learning a CrossCat probabilistic model"
   ]
  },
  {
   "cell_type": "markdown",
   "metadata": {},
   "source": [
    "### a. Defining an analysis population"
   ]
  },
  {
   "cell_type": "code",
   "execution_count": 9,
   "metadata": {},
   "outputs": [
    {
     "data": {
      "text/html": [
       "<div>\n",
       "<table border=\"1\" class=\"dataframe\">\n",
       "  <thead>\n",
       "    <tr style=\"text-align: right;\">\n",
       "      <th></th>\n",
       "      <th>column</th>\n",
       "      <th>stattype</th>\n",
       "      <th>num_distinct</th>\n",
       "      <th>reason</th>\n",
       "    </tr>\n",
       "  </thead>\n",
       "  <tbody>\n",
       "    <tr>\n",
       "      <th>0</th>\n",
       "      <td>Bout Number</td>\n",
       "      <td>nominal</td>\n",
       "      <td>24.0</td>\n",
       "      <td>There are fewer than 20 distinct numerical va...</td>\n",
       "    </tr>\n",
       "    <tr>\n",
       "      <th>1</th>\n",
       "      <td>Para Az</td>\n",
       "      <td>numerical</td>\n",
       "      <td>1784.0</td>\n",
       "      <td>There are at least 20 unique numerical values...</td>\n",
       "    </tr>\n",
       "    <tr>\n",
       "      <th>2</th>\n",
       "      <td>Para Alt</td>\n",
       "      <td>numerical</td>\n",
       "      <td>1784.0</td>\n",
       "      <td>There are at least 20 unique numerical values...</td>\n",
       "    </tr>\n",
       "    <tr>\n",
       "      <th>3</th>\n",
       "      <td>Para Dist</td>\n",
       "      <td>numerical</td>\n",
       "      <td>1784.0</td>\n",
       "      <td>There are at least 20 unique numerical values...</td>\n",
       "    </tr>\n",
       "    <tr>\n",
       "      <th>4</th>\n",
       "      <td>Postbout Para Az</td>\n",
       "      <td>numerical</td>\n",
       "      <td>1691.0</td>\n",
       "      <td>There are at least 20 unique numerical values...</td>\n",
       "    </tr>\n",
       "    <tr>\n",
       "      <th>5</th>\n",
       "      <td>Postbout Para Alt</td>\n",
       "      <td>numerical</td>\n",
       "      <td>1691.0</td>\n",
       "      <td>There are at least 20 unique numerical values...</td>\n",
       "    </tr>\n",
       "    <tr>\n",
       "      <th>6</th>\n",
       "      <td>Postbout Para Dist</td>\n",
       "      <td>numerical</td>\n",
       "      <td>1691.0</td>\n",
       "      <td>There are at least 20 unique numerical values...</td>\n",
       "    </tr>\n",
       "  </tbody>\n",
       "</table>\n",
       "</div>"
      ],
      "text/plain": [
       "               column   stattype  num_distinct  \\\n",
       "0         Bout Number    nominal          24.0   \n",
       "1             Para Az  numerical        1784.0   \n",
       "2            Para Alt  numerical        1784.0   \n",
       "3           Para Dist  numerical        1784.0   \n",
       "4    Postbout Para Az  numerical        1691.0   \n",
       "5   Postbout Para Alt  numerical        1691.0   \n",
       "6  Postbout Para Dist  numerical        1691.0   \n",
       "\n",
       "                                              reason  \n",
       "0   There are fewer than 20 distinct numerical va...  \n",
       "1   There are at least 20 unique numerical values...  \n",
       "2   There are at least 20 unique numerical values...  \n",
       "3   There are at least 20 unique numerical values...  \n",
       "4   There are at least 20 unique numerical values...  \n",
       "5   There are at least 20 unique numerical values...  \n",
       "6   There are at least 20 unique numerical values...  "
      ]
     },
     "execution_count": 9,
     "metadata": {},
     "output_type": "execute_result"
    }
   ],
   "source": [
    "%bql GUESS SCHEMA FOR bout_table"
   ]
  },
  {
   "cell_type": "code",
   "execution_count": 10,
   "metadata": {},
   "outputs": [
    {
     "data": {
      "text/html": [
       "<div>\n",
       "<table border=\"1\" class=\"dataframe\">\n",
       "  <thead>\n",
       "    <tr style=\"text-align: right;\">\n",
       "      <th></th>\n",
       "    </tr>\n",
       "  </thead>\n",
       "  <tbody>\n",
       "  </tbody>\n",
       "</table>\n",
       "</div>"
      ],
      "text/plain": [
       "Empty DataFrame\n",
       "Columns: []\n",
       "Index: []"
      ]
     },
     "execution_count": 10,
     "metadata": {},
     "output_type": "execute_result"
    }
   ],
   "source": [
    "%%mml\n",
    "DROP POPULATION IF EXISTS bout_population;\n",
    "CREATE POPULATION bout_population FOR bout_table WITH SCHEMA (GUESS STATTYPES OF (*);\n",
    "                          IGNORE \"Bout Number\";)"
   ]
  },
  {
   "cell_type": "markdown",
   "metadata": {},
   "source": [
    "### b. Creating and analyzing a probabilistic model (automatically)"
   ]
  },
  {
   "cell_type": "code",
   "execution_count": 11,
   "metadata": {},
   "outputs": [
    {
     "data": {
      "text/html": [
       "<div>\n",
       "<table border=\"1\" class=\"dataframe\">\n",
       "  <thead>\n",
       "    <tr style=\"text-align: right;\">\n",
       "      <th></th>\n",
       "    </tr>\n",
       "  </thead>\n",
       "  <tbody>\n",
       "  </tbody>\n",
       "</table>\n",
       "</div>"
      ],
      "text/plain": [
       "Empty DataFrame\n",
       "Columns: []\n",
       "Index: []"
      ]
     },
     "execution_count": 11,
     "metadata": {},
     "output_type": "execute_result"
    }
   ],
   "source": [
    "%mml CREATE GENERATOR marr_generator FOR bout_population;"
   ]
  },
  {
   "cell_type": "code",
   "execution_count": 12,
   "metadata": {},
   "outputs": [
    {
     "name": "stdout",
     "output_type": "stream",
     "text": [
      "Multiprocessing turned on from on.\n"
     ]
    }
   ],
   "source": [
    "%multiprocess on"
   ]
  },
  {
   "cell_type": "code",
   "execution_count": 13,
   "metadata": {},
   "outputs": [
    {
     "data": {
      "text/html": [
       "<div>\n",
       "<table border=\"1\" class=\"dataframe\">\n",
       "  <thead>\n",
       "    <tr style=\"text-align: right;\">\n",
       "      <th></th>\n",
       "    </tr>\n",
       "  </thead>\n",
       "  <tbody>\n",
       "  </tbody>\n",
       "</table>\n",
       "</div>"
      ],
      "text/plain": [
       "Empty DataFrame\n",
       "Columns: []\n",
       "Index: []"
      ]
     },
     "execution_count": 13,
     "metadata": {},
     "output_type": "execute_result"
    }
   ],
   "source": [
    "%mml INITIALIZE 50 MODELS IF NOT EXISTS FOR marr_generator;"
   ]
  },
  {
   "cell_type": "code",
   "execution_count": 14,
   "metadata": {},
   "outputs": [
    {
     "data": {
      "text/html": [
       "<div>\n",
       "<table border=\"1\" class=\"dataframe\">\n",
       "  <thead>\n",
       "    <tr style=\"text-align: right;\">\n",
       "      <th></th>\n",
       "    </tr>\n",
       "  </thead>\n",
       "  <tbody>\n",
       "  </tbody>\n",
       "</table>\n",
       "</div>"
      ],
      "text/plain": [
       "Empty DataFrame\n",
       "Columns: []\n",
       "Index: []"
      ]
     },
     "execution_count": 14,
     "metadata": {},
     "output_type": "execute_result"
    }
   ],
   "source": [
    "%mml ALTER GENERATOR \"marr_generator\" ENSURE VARIABLES * DEPENDENT;"
   ]
  },
  {
   "cell_type": "code",
   "execution_count": null,
   "metadata": {
    "scrolled": true
   },
   "outputs": [
    {
     "name": "stdout",
     "output_type": "stream",
     "text": [
      "Completed: 100 iterations in 2385.760107 seconds.\n",
      "Completed: 100 iterations in 2767.179567 seconds.\n",
      "Completed: 100 iterations in 1763.489575 seconds.\n",
      "Completed: 100 iterations in 1927.454419 seconds.\n",
      "Completed: 100 iterations in 1264.234266 seconds.\n",
      "Completed: 100 iterations in 1589.133720 seconds.\n",
      "Completed: 100 iterations in 1799.229036 seconds.\n",
      "Completed: 100 iterations in 1518.489631 seconds.\n",
      "Completed: 100 iterations in 1549.576800 seconds.\n",
      "Completed: 100 iterations in 2519.347685 seconds.\n",
      "Completed: 100 iterations in 3707.605163 seconds.\n",
      "Completed: 100 iterations in 2655.850948 seconds.\n",
      "Completed: 100 iterations in 3071.220527 seconds.\n",
      "Completed: 100 iterations in 1689.596500 seconds.\n",
      "Completed: 100 iterations in 2450.125848 seconds.\n",
      "Completed: 100 iterations in 1578.410756 seconds.\n",
      "Completed: 100 iterations in 2254.932255 seconds.\n",
      "Completed: 100 iterations in 2786.419161 seconds.\n",
      "Completed: 100 iterations in 4741.244721 seconds.\n",
      "Completed: 100 iterations in 2618.986815 seconds.\n",
      "Completed: 100 iterations in 4334.600316 seconds.\n",
      "Completed: 100 iterations in 6039.169939 seconds.\n",
      "Completed: 100 iterations in 4317.300811 seconds.\n",
      "Completed: 100 iterations in 2481.006364 seconds.\n",
      "Completed: 100 iterations in 1496.349194 seconds.\n",
      "[=============                 ] 45.00%"
     ]
    }
   ],
   "source": [
    "%mml ANALYZE marr_generator FOR 100 ITERATIONS;\n",
    "# note you can use the (OPTIMIZED) flag here but that gave you weird results last time. "
   ]
  },
  {
   "cell_type": "code",
   "execution_count": null,
   "metadata": {},
   "outputs": [],
   "source": []
  }
 ],
 "metadata": {
  "kernelspec": {
   "display_name": "Python 2",
   "language": "python",
   "name": "python2"
  },
  "language_info": {
   "codemirror_mode": {
    "name": "ipython",
    "version": 2
   },
   "file_extension": ".py",
   "mimetype": "text/x-python",
   "name": "python",
   "nbconvert_exporter": "python",
   "pygments_lexer": "ipython2",
   "version": "2.7.11"
  }
 },
 "nbformat": 4,
 "nbformat_minor": 2
}
