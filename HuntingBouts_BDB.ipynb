{
 "cells": [
  {
   "cell_type": "markdown",
   "metadata": {},
   "source": [
    "# BayesDB analysis of fish bouts in relation to paramecia characteristics"
   ]
  },
  {
   "cell_type": "markdown",
   "metadata": {},
   "source": [
    "## 1. Ingesting the data"
   ]
  },
  {
   "cell_type": "markdown",
   "metadata": {},
   "source": [
    "### a. Launching BayesDB"
   ]
  },
  {
   "cell_type": "code",
   "execution_count": 1,
   "metadata": {},
   "outputs": [],
   "source": [
    "from csv_analysis import invert_all_bouts\n",
    "import pandas as pd\n",
    "#drct = '042318_6/'\n",
    "drct = 'wik_bdb/'\n",
    "#csv_file = drct + 'all_huntbouts_rev.csv'\n",
    "#data = pd.read_csv(csv_file)\n",
    "#invert_all_bouts(data, drct)\n"
   ]
  },
  {
   "cell_type": "code",
   "execution_count": 2,
   "metadata": {},
   "outputs": [
    {
     "name": "stdout",
     "output_type": "stream",
     "text": [
      "session_id: jovyan@nightcrawler2-notebook_2019-03-21T15:43:14.919028_3\n"
     ]
    }
   ],
   "source": [
    "%load_ext jupyter_probcomp.magics"
   ]
  },
  {
   "cell_type": "code",
   "execution_count": 3,
   "metadata": {},
   "outputs": [
    {
     "data": {
      "application/javascript": [
       "//   Copyright (c) 2010-2016, MIT Probabilistic Computing Project\n",
       "//\n",
       "//   Licensed under the Apache License, Version 2.0 (the \"License\");\n",
       "//   you may not use this file except in compliance with the License.\n",
       "//   You may obtain a copy of the License at\n",
       "//\n",
       "//       http://www.apache.org/licenses/LICENSE-2.0\n",
       "//\n",
       "//   Unless required by applicable law or agreed to in writing, software\n",
       "//   distributed under the License is distributed on an \"AS IS\" BASIS,\n",
       "//   WITHOUT WARRANTIES OR CONDITIONS OF ANY KIND, either express or implied.\n",
       "//   See the License for the specific language governing permissions and\n",
       "//   limitations under the License.\n",
       "\n",
       "var myCell = element\n",
       "window.VizGPMReady = new Promise(resolve => {\n",
       "  $.getScript('https://probcomp-2.csail.mit.edu/vizgpm/vizgpm.js', function() {\n",
       "    myCell.append('Loaded VizGPM v' + VizGPM.version);\n",
       "    $.getScript('https://cdnjs.cloudflare.com/ajax/libs/lodash.js/4.17.4/lodash.js', function() {\n",
       "      myCell.append('Loaded lodash v' + _.VERSION);\n",
       "      VizGPM._ = _.noConflict();\n",
       "      resolve(VizGPM)\n",
       "    });\n",
       "  })\n",
       "})\n"
      ],
      "text/plain": [
       "<IPython.core.display.Javascript object>"
      ]
     },
     "execution_count": 3,
     "metadata": {},
     "output_type": "execute_result"
    }
   ],
   "source": [
    "%matplotlib inline\n",
    "%vizgpm inline"
   ]
  },
  {
   "cell_type": "code",
   "execution_count": 4,
   "metadata": {},
   "outputs": [
    {
     "data": {
      "text/plain": [
       "u'Loaded: wik_bdb/bdb_hunts_marr.bdb'"
      ]
     },
     "execution_count": 4,
     "metadata": {},
     "output_type": "execute_result"
    }
   ],
   "source": [
    "#!rm -f wik_bdb/bdb_hunts_inverted.bdb\n",
    "#%bayesdb -j wik_bdb/bdb_hunts_inverted.bdb\n",
    "\n",
    "!rm -f wik_bdb/bdb_hunts_marr.bdb\n",
    "%bayesdb -j wik_bdb/bdb_hunts_marr.bdb\n"
   ]
  },
  {
   "cell_type": "markdown",
   "metadata": {},
   "source": [
    "### b. Loading and printing the data from a `.csv` file"
   ]
  },
  {
   "cell_type": "code",
   "execution_count": 5,
   "metadata": {},
   "outputs": [
    {
     "data": {
      "text/html": [
       "<div>\n",
       "<table border=\"1\" class=\"dataframe\">\n",
       "  <thead>\n",
       "    <tr style=\"text-align: right;\">\n",
       "      <th></th>\n",
       "    </tr>\n",
       "  </thead>\n",
       "  <tbody>\n",
       "  </tbody>\n",
       "</table>\n",
       "</div>"
      ],
      "text/plain": [
       "Empty DataFrame\n",
       "Columns: []\n",
       "Index: []"
      ]
     },
     "execution_count": 5,
     "metadata": {},
     "output_type": "execute_result"
    }
   ],
   "source": [
    "%sql DROP TABLE IF EXISTS bout_table;\n",
    "#%bql CREATE TABLE bout_table FROM 'wik_bdb/huntbouts_inverted.csv' \n",
    "%bql CREATE TABLE bout_table FROM 'wik_bdb/all_huntbouts_marr.csv' "
   ]
  },
  {
   "cell_type": "code",
   "execution_count": 6,
   "metadata": {},
   "outputs": [
    {
     "data": {
      "text/html": [
       "<div>\n",
       "<table border=\"1\" class=\"dataframe\">\n",
       "  <thead>\n",
       "    <tr style=\"text-align: right;\">\n",
       "      <th></th>\n",
       "      <th>Bout Number</th>\n",
       "      <th>Para Az</th>\n",
       "      <th>Para Alt</th>\n",
       "      <th>Para Dist</th>\n",
       "      <th>Postbout Para Az</th>\n",
       "      <th>Postbout Para Alt</th>\n",
       "      <th>Postbout Para Dist</th>\n",
       "      <th>Strike Or Abort</th>\n",
       "    </tr>\n",
       "  </thead>\n",
       "  <tbody>\n",
       "    <tr>\n",
       "      <th>0</th>\n",
       "      <td>0.0</td>\n",
       "      <td>-0.977032</td>\n",
       "      <td>0.629180</td>\n",
       "      <td>354.291281</td>\n",
       "      <td>-0.175346</td>\n",
       "      <td>0.592776</td>\n",
       "      <td>299.960989</td>\n",
       "      <td>2.0</td>\n",
       "    </tr>\n",
       "    <tr>\n",
       "      <th>1</th>\n",
       "      <td>1.0</td>\n",
       "      <td>-0.162832</td>\n",
       "      <td>0.654781</td>\n",
       "      <td>305.528267</td>\n",
       "      <td>-0.158165</td>\n",
       "      <td>0.736650</td>\n",
       "      <td>286.473525</td>\n",
       "      <td>2.0</td>\n",
       "    </tr>\n",
       "    <tr>\n",
       "      <th>2</th>\n",
       "      <td>2.0</td>\n",
       "      <td>-0.179093</td>\n",
       "      <td>0.818221</td>\n",
       "      <td>281.527199</td>\n",
       "      <td>0.171628</td>\n",
       "      <td>0.271518</td>\n",
       "      <td>200.860390</td>\n",
       "      <td>2.0</td>\n",
       "    </tr>\n",
       "    <tr>\n",
       "      <th>3</th>\n",
       "      <td>3.0</td>\n",
       "      <td>0.073963</td>\n",
       "      <td>0.210280</td>\n",
       "      <td>134.098036</td>\n",
       "      <td>0.012218</td>\n",
       "      <td>0.210299</td>\n",
       "      <td>95.292186</td>\n",
       "      <td>2.0</td>\n",
       "    </tr>\n",
       "    <tr>\n",
       "      <th>4</th>\n",
       "      <td>4.0</td>\n",
       "      <td>0.108441</td>\n",
       "      <td>0.299536</td>\n",
       "      <td>77.905007</td>\n",
       "      <td>0.221962</td>\n",
       "      <td>0.746375</td>\n",
       "      <td>60.931606</td>\n",
       "      <td>2.0</td>\n",
       "    </tr>\n",
       "    <tr>\n",
       "      <th>5</th>\n",
       "      <td>0.0</td>\n",
       "      <td>-0.442195</td>\n",
       "      <td>0.487576</td>\n",
       "      <td>78.876586</td>\n",
       "      <td>0.053742</td>\n",
       "      <td>0.512896</td>\n",
       "      <td>63.664664</td>\n",
       "      <td>1.0</td>\n",
       "    </tr>\n",
       "    <tr>\n",
       "      <th>6</th>\n",
       "      <td>0.0</td>\n",
       "      <td>0.461436</td>\n",
       "      <td>0.400363</td>\n",
       "      <td>372.395718</td>\n",
       "      <td>0.189287</td>\n",
       "      <td>0.488262</td>\n",
       "      <td>290.246365</td>\n",
       "      <td>1.0</td>\n",
       "    </tr>\n",
       "    <tr>\n",
       "      <th>7</th>\n",
       "      <td>1.0</td>\n",
       "      <td>0.198364</td>\n",
       "      <td>0.499294</td>\n",
       "      <td>282.973273</td>\n",
       "      <td>-0.067488</td>\n",
       "      <td>0.434303</td>\n",
       "      <td>188.771498</td>\n",
       "      <td>1.0</td>\n",
       "    </tr>\n",
       "    <tr>\n",
       "      <th>8</th>\n",
       "      <td>2.0</td>\n",
       "      <td>-0.119681</td>\n",
       "      <td>0.392236</td>\n",
       "      <td>171.041294</td>\n",
       "      <td>0.027759</td>\n",
       "      <td>0.181165</td>\n",
       "      <td>106.936309</td>\n",
       "      <td>1.0</td>\n",
       "    </tr>\n",
       "    <tr>\n",
       "      <th>9</th>\n",
       "      <td>3.0</td>\n",
       "      <td>0.039726</td>\n",
       "      <td>0.164327</td>\n",
       "      <td>102.885812</td>\n",
       "      <td>0.118466</td>\n",
       "      <td>0.163395</td>\n",
       "      <td>76.723493</td>\n",
       "      <td>1.0</td>\n",
       "    </tr>\n",
       "    <tr>\n",
       "      <th>10</th>\n",
       "      <td>4.0</td>\n",
       "      <td>0.125257</td>\n",
       "      <td>0.160875</td>\n",
       "      <td>74.386892</td>\n",
       "      <td>0.130261</td>\n",
       "      <td>0.112657</td>\n",
       "      <td>67.294780</td>\n",
       "      <td>1.0</td>\n",
       "    </tr>\n",
       "    <tr>\n",
       "      <th>11</th>\n",
       "      <td>5.0</td>\n",
       "      <td>0.129650</td>\n",
       "      <td>0.098769</td>\n",
       "      <td>66.348647</td>\n",
       "      <td>0.130290</td>\n",
       "      <td>0.011698</td>\n",
       "      <td>50.373394</td>\n",
       "      <td>1.0</td>\n",
       "    </tr>\n",
       "    <tr>\n",
       "      <th>12</th>\n",
       "      <td>6.0</td>\n",
       "      <td>0.139575</td>\n",
       "      <td>0.054191</td>\n",
       "      <td>49.455664</td>\n",
       "      <td>0.105445</td>\n",
       "      <td>0.162769</td>\n",
       "      <td>56.191522</td>\n",
       "      <td>1.0</td>\n",
       "    </tr>\n",
       "    <tr>\n",
       "      <th>13</th>\n",
       "      <td>7.0</td>\n",
       "      <td>0.169372</td>\n",
       "      <td>0.191130</td>\n",
       "      <td>77.167653</td>\n",
       "      <td>0.099534</td>\n",
       "      <td>0.164030</td>\n",
       "      <td>73.953015</td>\n",
       "      <td>1.0</td>\n",
       "    </tr>\n",
       "    <tr>\n",
       "      <th>14</th>\n",
       "      <td>0.0</td>\n",
       "      <td>1.113917</td>\n",
       "      <td>0.447859</td>\n",
       "      <td>472.217591</td>\n",
       "      <td>0.356942</td>\n",
       "      <td>0.404500</td>\n",
       "      <td>368.415828</td>\n",
       "      <td>1.0</td>\n",
       "    </tr>\n",
       "    <tr>\n",
       "      <th>15</th>\n",
       "      <td>1.0</td>\n",
       "      <td>0.291139</td>\n",
       "      <td>0.430328</td>\n",
       "      <td>352.718887</td>\n",
       "      <td>0.415654</td>\n",
       "      <td>0.567983</td>\n",
       "      <td>279.767121</td>\n",
       "      <td>1.0</td>\n",
       "    </tr>\n",
       "    <tr>\n",
       "      <th>16</th>\n",
       "      <td>2.0</td>\n",
       "      <td>0.497323</td>\n",
       "      <td>0.669647</td>\n",
       "      <td>238.260240</td>\n",
       "      <td>-0.404319</td>\n",
       "      <td>0.213231</td>\n",
       "      <td>149.939606</td>\n",
       "      <td>1.0</td>\n",
       "    </tr>\n",
       "    <tr>\n",
       "      <th>17</th>\n",
       "      <td>3.0</td>\n",
       "      <td>-0.476926</td>\n",
       "      <td>0.172341</td>\n",
       "      <td>138.588661</td>\n",
       "      <td>0.143451</td>\n",
       "      <td>0.338345</td>\n",
       "      <td>97.472918</td>\n",
       "      <td>1.0</td>\n",
       "    </tr>\n",
       "    <tr>\n",
       "      <th>18</th>\n",
       "      <td>4.0</td>\n",
       "      <td>0.207898</td>\n",
       "      <td>0.369461</td>\n",
       "      <td>94.029352</td>\n",
       "      <td>NaN</td>\n",
       "      <td>NaN</td>\n",
       "      <td>NaN</td>\n",
       "      <td>1.0</td>\n",
       "    </tr>\n",
       "    <tr>\n",
       "      <th>19</th>\n",
       "      <td>0.0</td>\n",
       "      <td>-2.008579</td>\n",
       "      <td>-0.082977</td>\n",
       "      <td>258.437317</td>\n",
       "      <td>-0.237055</td>\n",
       "      <td>0.329138</td>\n",
       "      <td>110.970344</td>\n",
       "      <td>1.0</td>\n",
       "    </tr>\n",
       "    <tr>\n",
       "      <th>20</th>\n",
       "      <td>1.0</td>\n",
       "      <td>-0.123602</td>\n",
       "      <td>0.342200</td>\n",
       "      <td>112.998138</td>\n",
       "      <td>0.067837</td>\n",
       "      <td>0.397500</td>\n",
       "      <td>108.791193</td>\n",
       "      <td>1.0</td>\n",
       "    </tr>\n",
       "    <tr>\n",
       "      <th>21</th>\n",
       "      <td>2.0</td>\n",
       "      <td>0.075844</td>\n",
       "      <td>0.383721</td>\n",
       "      <td>109.038729</td>\n",
       "      <td>-0.040379</td>\n",
       "      <td>0.448423</td>\n",
       "      <td>88.651614</td>\n",
       "      <td>1.0</td>\n",
       "    </tr>\n",
       "    <tr>\n",
       "      <th>22</th>\n",
       "      <td>0.0</td>\n",
       "      <td>-0.412976</td>\n",
       "      <td>-0.430097</td>\n",
       "      <td>248.112526</td>\n",
       "      <td>-0.150053</td>\n",
       "      <td>-0.073440</td>\n",
       "      <td>194.943726</td>\n",
       "      <td>1.0</td>\n",
       "    </tr>\n",
       "    <tr>\n",
       "      <th>23</th>\n",
       "      <td>1.0</td>\n",
       "      <td>-0.189620</td>\n",
       "      <td>-0.129438</td>\n",
       "      <td>183.324767</td>\n",
       "      <td>-0.033361</td>\n",
       "      <td>0.435098</td>\n",
       "      <td>111.048571</td>\n",
       "      <td>1.0</td>\n",
       "    </tr>\n",
       "    <tr>\n",
       "      <th>24</th>\n",
       "      <td>2.0</td>\n",
       "      <td>-0.065496</td>\n",
       "      <td>0.386278</td>\n",
       "      <td>87.114869</td>\n",
       "      <td>-0.080171</td>\n",
       "      <td>0.329587</td>\n",
       "      <td>78.024320</td>\n",
       "      <td>1.0</td>\n",
       "    </tr>\n",
       "  </tbody>\n",
       "</table>\n",
       "</div>"
      ],
      "text/plain": [
       "    Bout Number   Para Az  Para Alt   Para Dist  Postbout Para Az  \\\n",
       "0           0.0 -0.977032  0.629180  354.291281         -0.175346   \n",
       "1           1.0 -0.162832  0.654781  305.528267         -0.158165   \n",
       "2           2.0 -0.179093  0.818221  281.527199          0.171628   \n",
       "3           3.0  0.073963  0.210280  134.098036          0.012218   \n",
       "4           4.0  0.108441  0.299536   77.905007          0.221962   \n",
       "5           0.0 -0.442195  0.487576   78.876586          0.053742   \n",
       "6           0.0  0.461436  0.400363  372.395718          0.189287   \n",
       "7           1.0  0.198364  0.499294  282.973273         -0.067488   \n",
       "8           2.0 -0.119681  0.392236  171.041294          0.027759   \n",
       "9           3.0  0.039726  0.164327  102.885812          0.118466   \n",
       "10          4.0  0.125257  0.160875   74.386892          0.130261   \n",
       "11          5.0  0.129650  0.098769   66.348647          0.130290   \n",
       "12          6.0  0.139575  0.054191   49.455664          0.105445   \n",
       "13          7.0  0.169372  0.191130   77.167653          0.099534   \n",
       "14          0.0  1.113917  0.447859  472.217591          0.356942   \n",
       "15          1.0  0.291139  0.430328  352.718887          0.415654   \n",
       "16          2.0  0.497323  0.669647  238.260240         -0.404319   \n",
       "17          3.0 -0.476926  0.172341  138.588661          0.143451   \n",
       "18          4.0  0.207898  0.369461   94.029352               NaN   \n",
       "19          0.0 -2.008579 -0.082977  258.437317         -0.237055   \n",
       "20          1.0 -0.123602  0.342200  112.998138          0.067837   \n",
       "21          2.0  0.075844  0.383721  109.038729         -0.040379   \n",
       "22          0.0 -0.412976 -0.430097  248.112526         -0.150053   \n",
       "23          1.0 -0.189620 -0.129438  183.324767         -0.033361   \n",
       "24          2.0 -0.065496  0.386278   87.114869         -0.080171   \n",
       "\n",
       "    Postbout Para Alt  Postbout Para Dist  Strike Or Abort  \n",
       "0            0.592776          299.960989              2.0  \n",
       "1            0.736650          286.473525              2.0  \n",
       "2            0.271518          200.860390              2.0  \n",
       "3            0.210299           95.292186              2.0  \n",
       "4            0.746375           60.931606              2.0  \n",
       "5            0.512896           63.664664              1.0  \n",
       "6            0.488262          290.246365              1.0  \n",
       "7            0.434303          188.771498              1.0  \n",
       "8            0.181165          106.936309              1.0  \n",
       "9            0.163395           76.723493              1.0  \n",
       "10           0.112657           67.294780              1.0  \n",
       "11           0.011698           50.373394              1.0  \n",
       "12           0.162769           56.191522              1.0  \n",
       "13           0.164030           73.953015              1.0  \n",
       "14           0.404500          368.415828              1.0  \n",
       "15           0.567983          279.767121              1.0  \n",
       "16           0.213231          149.939606              1.0  \n",
       "17           0.338345           97.472918              1.0  \n",
       "18                NaN                 NaN              1.0  \n",
       "19           0.329138          110.970344              1.0  \n",
       "20           0.397500          108.791193              1.0  \n",
       "21           0.448423           88.651614              1.0  \n",
       "22          -0.073440          194.943726              1.0  \n",
       "23           0.435098          111.048571              1.0  \n",
       "24           0.329587           78.024320              1.0  "
      ]
     },
     "execution_count": 6,
     "metadata": {},
     "output_type": "execute_result"
    }
   ],
   "source": [
    "%sql SELECT * FROM bout_table LIMIT 25;"
   ]
  },
  {
   "cell_type": "code",
   "execution_count": 7,
   "metadata": {},
   "outputs": [
    {
     "name": "stdout",
     "output_type": "stream",
     "text": [
      "Nullified 0 cells\n",
      "Nullified 156 cells\n"
     ]
    }
   ],
   "source": [
    "%bql .nullify bout_table ''\n",
    "%bql .nullify bout_table 'nan'"
   ]
  },
  {
   "cell_type": "markdown",
   "metadata": {},
   "source": [
    "## 2. Automatically learning a CrossCat probabilistic model"
   ]
  },
  {
   "cell_type": "markdown",
   "metadata": {},
   "source": [
    "### a. Defining an analysis population"
   ]
  },
  {
   "cell_type": "code",
   "execution_count": 8,
   "metadata": {},
   "outputs": [
    {
     "data": {
      "text/html": [
       "<div>\n",
       "<table border=\"1\" class=\"dataframe\">\n",
       "  <thead>\n",
       "    <tr style=\"text-align: right;\">\n",
       "      <th></th>\n",
       "      <th>column</th>\n",
       "      <th>stattype</th>\n",
       "      <th>num_distinct</th>\n",
       "      <th>reason</th>\n",
       "    </tr>\n",
       "  </thead>\n",
       "  <tbody>\n",
       "    <tr>\n",
       "      <th>0</th>\n",
       "      <td>Bout Number</td>\n",
       "      <td>nominal</td>\n",
       "      <td>25.0</td>\n",
       "      <td>There are fewer than 20 distinct numerical va...</td>\n",
       "    </tr>\n",
       "    <tr>\n",
       "      <th>1</th>\n",
       "      <td>Para Az</td>\n",
       "      <td>numerical</td>\n",
       "      <td>1402.0</td>\n",
       "      <td>There are at least 20 unique numerical values...</td>\n",
       "    </tr>\n",
       "    <tr>\n",
       "      <th>2</th>\n",
       "      <td>Para Alt</td>\n",
       "      <td>numerical</td>\n",
       "      <td>1402.0</td>\n",
       "      <td>There are at least 20 unique numerical values...</td>\n",
       "    </tr>\n",
       "    <tr>\n",
       "      <th>3</th>\n",
       "      <td>Para Dist</td>\n",
       "      <td>numerical</td>\n",
       "      <td>1402.0</td>\n",
       "      <td>There are at least 20 unique numerical values...</td>\n",
       "    </tr>\n",
       "    <tr>\n",
       "      <th>4</th>\n",
       "      <td>Postbout Para Az</td>\n",
       "      <td>numerical</td>\n",
       "      <td>1349.0</td>\n",
       "      <td>There are at least 20 unique numerical values...</td>\n",
       "    </tr>\n",
       "    <tr>\n",
       "      <th>5</th>\n",
       "      <td>Postbout Para Alt</td>\n",
       "      <td>numerical</td>\n",
       "      <td>1349.0</td>\n",
       "      <td>There are at least 20 unique numerical values...</td>\n",
       "    </tr>\n",
       "    <tr>\n",
       "      <th>6</th>\n",
       "      <td>Postbout Para Dist</td>\n",
       "      <td>numerical</td>\n",
       "      <td>1349.0</td>\n",
       "      <td>There are at least 20 unique numerical values...</td>\n",
       "    </tr>\n",
       "    <tr>\n",
       "      <th>7</th>\n",
       "      <td>Strike Or Abort</td>\n",
       "      <td>nominal</td>\n",
       "      <td>2.0</td>\n",
       "      <td>There are fewer than 20 distinct numerical va...</td>\n",
       "    </tr>\n",
       "  </tbody>\n",
       "</table>\n",
       "</div>"
      ],
      "text/plain": [
       "               column   stattype  num_distinct  \\\n",
       "0         Bout Number    nominal          25.0   \n",
       "1             Para Az  numerical        1402.0   \n",
       "2            Para Alt  numerical        1402.0   \n",
       "3           Para Dist  numerical        1402.0   \n",
       "4    Postbout Para Az  numerical        1349.0   \n",
       "5   Postbout Para Alt  numerical        1349.0   \n",
       "6  Postbout Para Dist  numerical        1349.0   \n",
       "7     Strike Or Abort    nominal           2.0   \n",
       "\n",
       "                                              reason  \n",
       "0   There are fewer than 20 distinct numerical va...  \n",
       "1   There are at least 20 unique numerical values...  \n",
       "2   There are at least 20 unique numerical values...  \n",
       "3   There are at least 20 unique numerical values...  \n",
       "4   There are at least 20 unique numerical values...  \n",
       "5   There are at least 20 unique numerical values...  \n",
       "6   There are at least 20 unique numerical values...  \n",
       "7   There are fewer than 20 distinct numerical va...  "
      ]
     },
     "execution_count": 8,
     "metadata": {},
     "output_type": "execute_result"
    }
   ],
   "source": [
    "%bql GUESS SCHEMA FOR bout_table"
   ]
  },
  {
   "cell_type": "code",
   "execution_count": 10,
   "metadata": {},
   "outputs": [
    {
     "data": {
      "text/html": [
       "<div>\n",
       "<table border=\"1\" class=\"dataframe\">\n",
       "  <thead>\n",
       "    <tr style=\"text-align: right;\">\n",
       "      <th></th>\n",
       "    </tr>\n",
       "  </thead>\n",
       "  <tbody>\n",
       "  </tbody>\n",
       "</table>\n",
       "</div>"
      ],
      "text/plain": [
       "Empty DataFrame\n",
       "Columns: []\n",
       "Index: []"
      ]
     },
     "execution_count": 10,
     "metadata": {},
     "output_type": "execute_result"
    }
   ],
   "source": [
    "%%mml\n",
    "DROP POPULATION IF EXISTS bout_population;\n",
    "CREATE POPULATION bout_population FOR bout_table WITH SCHEMA (GUESS STATTYPES OF (*);\n",
    "                          IGNORE \"Strike Or Abort\";)"
   ]
  },
  {
   "cell_type": "code",
   "execution_count": null,
   "metadata": {},
   "outputs": [],
   "source": [
    "%%mml\n",
    "DROP POPULATION IF EXISTS bout_population;\n",
    "CREATE POPULATION bout_population FOR bout_table WITH SCHEMA (GUESS STATTYPES OF (*);\n",
    "                          IGNORE \"Hunt ID\", \"Bout Number\", \"Strike Or Abort\", \"Inferred\", \"Percent Nans in Bout\", \n",
    "                                \"Cluster Membership\", \"Avg Para Velocity\", \"Postbout Para Az\", \"Postbout Para Alt\", \n",
    "                                \"Postbout Para Dist\";)"
   ]
  },
  {
   "cell_type": "markdown",
   "metadata": {},
   "source": [
    "### b. Creating and analyzing a probabilistic model (automatically)"
   ]
  },
  {
   "cell_type": "code",
   "execution_count": 11,
   "metadata": {},
   "outputs": [
    {
     "data": {
      "text/html": [
       "<div>\n",
       "<table border=\"1\" class=\"dataframe\">\n",
       "  <thead>\n",
       "    <tr style=\"text-align: right;\">\n",
       "      <th></th>\n",
       "    </tr>\n",
       "  </thead>\n",
       "  <tbody>\n",
       "  </tbody>\n",
       "</table>\n",
       "</div>"
      ],
      "text/plain": [
       "Empty DataFrame\n",
       "Columns: []\n",
       "Index: []"
      ]
     },
     "execution_count": 11,
     "metadata": {},
     "output_type": "execute_result"
    }
   ],
   "source": [
    "%mml CREATE GENERATOR huntbouts_crosscat FOR bout_population;"
   ]
  },
  {
   "cell_type": "code",
   "execution_count": 12,
   "metadata": {},
   "outputs": [
    {
     "data": {
      "text/html": [
       "<div>\n",
       "<table border=\"1\" class=\"dataframe\">\n",
       "  <thead>\n",
       "    <tr style=\"text-align: right;\">\n",
       "      <th></th>\n",
       "    </tr>\n",
       "  </thead>\n",
       "  <tbody>\n",
       "  </tbody>\n",
       "</table>\n",
       "</div>"
      ],
      "text/plain": [
       "Empty DataFrame\n",
       "Columns: []\n",
       "Index: []"
      ]
     },
     "execution_count": 12,
     "metadata": {},
     "output_type": "execute_result"
    }
   ],
   "source": [
    "%mml INITIALIZE 50 MODELS IF NOT EXISTS FOR huntbouts_crosscat;"
   ]
  },
  {
   "cell_type": "code",
   "execution_count": 13,
   "metadata": {
    "scrolled": true
   },
   "outputs": [
    {
     "name": "stdout",
     "output_type": "stream",
     "text": [
      "Completed: 100 iterations in 11.598669 seconds.\n",
      "Completed: 100 iterations in 12.005739 seconds.\n",
      "Completed: 100 iterations in 11.807401 seconds.\n",
      "Completed: 100 iterations in 13.138245 seconds.\n",
      "Completed: 100 iterations in 8.086068 seconds.\n",
      "Completed: 100 iterations in 11.083287 seconds.\n",
      "Completed: 100 iterations in 11.931882 seconds.\n",
      "Completed: 100 iterations in 9.494003 seconds.\n",
      "Completed: 100 iterations in 10.942706 seconds.\n",
      "Completed: 100 iterations in 11.462989 seconds.\n",
      "Completed: 100 iterations in 11.090378 seconds.\n",
      "Completed: 100 iterations in 9.854854 seconds.\n",
      "Completed: 100 iterations in 8.125150 seconds.\n",
      "Completed: 100 iterations in 11.570309 seconds.\n",
      "Completed: 100 iterations in 12.031792 seconds.\n",
      "Completed: 100 iterations in 11.254563 seconds.\n",
      "Completed: 100 iterations in 14.141239 seconds.\n",
      "Completed: 100 iterations in 10.584402 seconds.\n",
      "Completed: 100 iterations in 10.715074 seconds.\n",
      "Completed: 100 iterations in 13.218891 seconds.\n",
      "Completed: 100 iterations in 9.347302 seconds.\n",
      "Completed: 100 iterations in 11.054323 seconds.\n",
      "Completed: 100 iterations in 16.038859 seconds.\n",
      "Completed: 100 iterations in 24.951106 seconds.\n",
      "Completed: 100 iterations in 16.324381 seconds.\n",
      "Completed: 100 iterations in 16.325375 seconds.\n",
      "Completed: 100 iterations in 14.042856 seconds.\n",
      "Completed: 100 iterations in 13.055531 seconds.\n",
      "Completed: 100 iterations in 12.951726 seconds.\n",
      "Completed: 100 iterations in 15.271290 seconds.\n",
      "Completed: 100 iterations in 18.970758 seconds.\n",
      "Completed: 100 iterations in 15.894627 seconds.\n",
      "Completed: 100 iterations in 14.065960 seconds.\n",
      "Completed: 100 iterations in 15.155329 seconds.\n",
      "Completed: 100 iterations in 13.298257 seconds.\n",
      "Completed: 100 iterations in 19.643936 seconds.\n",
      "Completed: 100 iterations in 10.876032 seconds.\n",
      "Completed: 100 iterations in 9.486807 seconds.\n",
      "Completed: 100 iterations in 7.959806 seconds.\n",
      "Completed: 100 iterations in 22.226080 seconds.\n",
      "Completed: 100 iterations in 9.843374 seconds.\n",
      "Completed: 100 iterations in 14.979232 seconds.\n",
      "Completed: 100 iterations in 9.217813 seconds.\n",
      "Completed: 100 iterations in 12.659425 seconds.\n",
      "Completed: 100 iterations in 11.850149 seconds.\n",
      "Completed: 100 iterations in 10.535015 seconds.\n",
      "Completed: 100 iterations in 7.562829 seconds.\n",
      "Completed: 100 iterations in 16.245720 seconds.\n",
      "Completed: 100 iterations in 9.333566 seconds.\n",
      "Completed: 100 iterations in 12.071401 seconds.\n"
     ]
    },
    {
     "data": {
      "text/html": [
       "<div>\n",
       "<table border=\"1\" class=\"dataframe\">\n",
       "  <thead>\n",
       "    <tr style=\"text-align: right;\">\n",
       "      <th></th>\n",
       "    </tr>\n",
       "  </thead>\n",
       "  <tbody>\n",
       "  </tbody>\n",
       "</table>\n",
       "</div>"
      ],
      "text/plain": [
       "Empty DataFrame\n",
       "Columns: []\n",
       "Index: []"
      ]
     },
     "execution_count": 13,
     "metadata": {},
     "output_type": "execute_result"
    }
   ],
   "source": [
    "%mml ANALYZE huntbouts_crosscat FOR 100 ITERATIONS (OPTIMIZED);\n",
    "# note you can use the (OPTIMIZED) flag here but that gave you weird results last time. "
   ]
  },
  {
   "cell_type": "code",
   "execution_count": null,
   "metadata": {},
   "outputs": [],
   "source": []
  }
 ],
 "metadata": {
  "kernelspec": {
   "display_name": "Python 2",
   "language": "python",
   "name": "python2"
  },
  "language_info": {
   "codemirror_mode": {
    "name": "ipython",
    "version": 2
   },
   "file_extension": ".py",
   "mimetype": "text/x-python",
   "name": "python",
   "nbconvert_exporter": "python",
   "pygments_lexer": "ipython2",
   "version": "2.7.11"
  }
 },
 "nbformat": 4,
 "nbformat_minor": 2
}
